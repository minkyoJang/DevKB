{
 "cells": [
  {
   "cell_type": "code",
   "execution_count": 7,
   "metadata": {},
   "outputs": [
    {
     "name": "stderr",
     "output_type": "stream",
     "text": [
      "<ipython-input-7-389f87ebe523>:23: DeprecationWarning: executable_path has been deprecated, please pass in a Service object\n",
      "  browser = webdriver.Chrome(\"./chromedriver\") # 크롬드라이버가 있는 경로 작성\n",
      "<ipython-input-7-389f87ebe523>:27: DeprecationWarning: find_element_by_* commands are deprecated. Please use find_element() instead\n",
      "  id = browser.find_element_by_css_selector(\"#USER_ID\")\n",
      "<ipython-input-7-389f87ebe523>:29: DeprecationWarning: find_element_by_* commands are deprecated. Please use find_element() instead\n",
      "  pw = browser.find_element_by_css_selector(\"#PS_WD\")\n",
      "<ipython-input-7-389f87ebe523>:32: DeprecationWarning: find_element_by_* commands are deprecated. Please use find_element() instead\n",
      "  browser.find_element_by_xpath(\"//*[@id='frm']/div/a\").send_keys(Keys.ENTER)\n",
      "<ipython-input-7-389f87ebe523>:33: DeprecationWarning: find_element_by_* commands are deprecated. Please use find_element() instead\n",
      "  browser.find_element_by_css_selector(\"#header > div.TotalSub_top_info > div > ul.top_right > li:nth-child(1) > a\").send_keys(Keys.ENTER)\n",
      "<ipython-input-7-389f87ebe523>:34: DeprecationWarning: find_element_by_* commands are deprecated. Please use find_element() instead\n",
      "  browser.find_element_by_tag_name('body').send_keys(Keys.PAGE_DOWN)\n",
      "<ipython-input-7-389f87ebe523>:36: DeprecationWarning: find_element_by_* commands are deprecated. Please use find_element() instead\n",
      "  browser.find_element_by_css_selector(\"#ContsBody > div.ContsBody_conts > div.lectureList_tbl > ul:nth-child(3) > li.lectureList_list > a\").send_keys(Keys.ENTER)\n",
      "<ipython-input-7-389f87ebe523>:37: DeprecationWarning: find_element_by_* commands are deprecated. Please use find_element() instead\n",
      "  browser.find_element_by_css_selector(\"#popDimClose\").click()\n"
     ]
    }
   ],
   "source": [
    "# This is a sample Python script.\n",
    "\n",
    "# Press Shift+F10 to execute it or replace it with your code.\n",
    "# Press Double Shift to search everywhere for classes, files, tool windows, actions, and settings.\n",
    "\n",
    "\n",
    "#def print_hi(name):\n",
    "    # Use a breakpoint in the code line below to debug your script.\n",
    "#    print(f'Hi, {name}')  # Press Ctrl+F8 to toggle the breakpoint.\n",
    "\n",
    "\n",
    "# Press the green button in the gutter to run the script.\n",
    "#if __name__ == '__main__':\n",
    "#    print_hi('PyCharm')\n",
    "\n",
    "# See PyCharm help at https://www.jetbrains.com/help/pycharm/\n",
    "\n",
    "from selenium import webdriver #셀레니움설치하고, 크롬 드라이버를 설치 경로에 미리 넣기\n",
    "from selenium.webdriver.common.keys import Keys\n",
    "from bs4 import BeautifulSoup\n",
    "\n",
    "import time\n",
    "browser = webdriver.Chrome(\"./chromedriver\") # 크롬드라이버가 있는 경로 작성\n",
    "browser.get(\"https://www.algisa.com/login/memberLogin.html;ADMIN_JSESSIONID=BB4CEBAF393A87604A4E1010FC8BD4CE?LoginYn=N&unitedSarchText=&searchTab=&refererUrl=\")\n",
    "\n",
    "#id입력\n",
    "id = browser.find_element_by_css_selector(\"#USER_ID\")\n",
    "id.send_keys(\"missrabbt\")\n",
    "pw = browser.find_element_by_css_selector(\"#PS_WD\")\n",
    "pw.send_keys(\"alsrysla95*\")\n",
    "#로그인버튼 클릭\n",
    "browser.find_element_by_xpath(\"//*[@id='frm']/div/a\").send_keys(Keys.ENTER)\n",
    "browser.find_element_by_css_selector(\"#header > div.TotalSub_top_info > div > ul.top_right > li:nth-child(1) > a\").send_keys(Keys.ENTER)\n",
    "browser.find_element_by_tag_name('body').send_keys(Keys.PAGE_DOWN)\n",
    "time.sleep(1)\n",
    "browser.find_element_by_css_selector(\"#ContsBody > div.ContsBody_conts > div.lectureList_tbl > ul:nth-child(3) > li.lectureList_list > a\").send_keys(Keys.ENTER)\n",
    "browser.find_element_by_css_selector(\"#popDimClose\").click()\n",
    "\n",
    "# 아래부터는 bs4로 크롤링\n",
    "html = browser.page_source #URL에 해당하는 페이지의 HTML를 가져옴. 참고(https://velog.io/@fhdufhdu/SIG-%ED%94%84%EB%A1%9C%EC%A0%9D%ED%8A%B8-2.-Selenium%EA%B3%BC-BS4%EB%A5%BC-%EC%82%AC%EC%9A%A9%ED%95%B4%EB%B3%B4%EC%9E%90%EB%8D%B0%EC%9D%B4%ED%84%B0-%EC%88%98%EC%A7%91)\n",
    "soup = BeautifulSoup(html, 'html.parser')\n",
    "div = soup.find(\"div\",class_=\"ContsBody_conts\")\n",
    "result1 = []\n",
    "result2 = []\n",
    "result3 = []\n",
    "\n",
    "for ul in div.find_all('ul',class_=\"lectureView_conts\"):\n",
    "    result1.append(ul.find('li', class_=\"lectureView_ttl\").get_text())\n",
    "    result2.append(ul.find('li', class_=\"lectureView_time\").get_text())\n",
    "    result3.append( ul.find('li', class_=\"lectureView_ttl\").get_text()  + ul.find('li', class_=\"lectureView_time\").get_text() )\n",
    "\n",
    "\n"
   ]
  },
  {
   "cell_type": "code",
   "execution_count": 8,
   "metadata": {},
   "outputs": [
    {
     "data": {
      "text/plain": [
       "['1. 1강. OT\\n\\n\\t\\t\\t\\t\\t\\t\\t\\t \\n\\t\\t\\t\\t\\t\\t\\t\\t54분\\n\\t\\t\\t\\t\\t\\t\\t\\t\\n\\t\\t\\t\\t\\t\\t\\t\\t\\n\\t\\t\\t\\t\\t\\t\\t\\t\\n\\t\\t\\t\\t\\t\\t\\t\\t\\n\\t\\t\\t\\t\\t\\t\\t\\t\\n\\n\\t\\t\\t\\t\\t\\t\\t\\t\\t(00분)\\n\\t\\t\\t\\t\\t\\t\\t\\t\\n\\n\\n\\t\\t\\t\\t\\t\\t\\t\\t\\t(00분)\\n\\t\\t\\t\\t\\t\\t\\t\\t\\n\\n',\n",
       " '2. 2강. Section 01 정보보호 관리의 개념_CIA Triad(삼각형) p.4\\n\\n\\t\\t\\t\\t\\t\\t\\t\\t \\n\\t\\t\\t\\t\\t\\t\\t\\t64분\\n\\t\\t\\t\\t\\t\\t\\t\\t\\n\\t\\t\\t\\t\\t\\t\\t\\t\\n\\t\\t\\t\\t\\t\\t\\t\\t\\n\\t\\t\\t\\t\\t\\t\\t\\t\\n\\t\\t\\t\\t\\t\\t\\t\\t\\n\\n\\t\\t\\t\\t\\t\\t\\t\\t\\t(00분)\\n\\t\\t\\t\\t\\t\\t\\t\\t\\n\\n\\n\\t\\t\\t\\t\\t\\t\\t\\t\\t(00분)\\n\\t\\t\\t\\t\\t\\t\\t\\t\\n\\n',\n",
       " '3. 03강. PART 02 암호학 p.16\\n\\n\\t\\t\\t\\t\\t\\t\\t\\t \\n\\t\\t\\t\\t\\t\\t\\t\\t61분\\n\\t\\t\\t\\t\\t\\t\\t\\t\\n\\t\\t\\t\\t\\t\\t\\t\\t\\n\\t\\t\\t\\t\\t\\t\\t\\t\\n\\t\\t\\t\\t\\t\\t\\t\\t\\n\\t\\t\\t\\t\\t\\t\\t\\t\\n\\n\\t\\t\\t\\t\\t\\t\\t\\t\\t(00분)\\n\\t\\t\\t\\t\\t\\t\\t\\t\\n\\n\\n\\t\\t\\t\\t\\t\\t\\t\\t\\t(00분)\\n\\t\\t\\t\\t\\t\\t\\t\\t\\n\\n',\n",
       " '4. 04강. Section 02 암호학 개요_3. 주요 암호기술에 대한 개괄 p.23\\n\\n\\t\\t\\t\\t\\t\\t\\t\\t \\n\\t\\t\\t\\t\\t\\t\\t\\t64분\\n\\t\\t\\t\\t\\t\\t\\t\\t\\n\\t\\t\\t\\t\\t\\t\\t\\t\\n\\t\\t\\t\\t\\t\\t\\t\\t\\n\\t\\t\\t\\t\\t\\t\\t\\t\\n\\t\\t\\t\\t\\t\\t\\t\\t\\n\\n\\t\\t\\t\\t\\t\\t\\t\\t\\t(00분)\\n\\t\\t\\t\\t\\t\\t\\t\\t\\n\\n\\n\\t\\t\\t\\t\\t\\t\\t\\t\\t(00분)\\n\\t\\t\\t\\t\\t\\t\\t\\t\\n\\n',\n",
       " '5. 05강. Section 03 대칭키 암호_1. 현대 대칭키 암호 p.33\\n\\n\\t\\t\\t\\t\\t\\t\\t\\t \\n\\t\\t\\t\\t\\t\\t\\t\\t61분\\n\\t\\t\\t\\t\\t\\t\\t\\t\\n\\t\\t\\t\\t\\t\\t\\t\\t\\n\\t\\t\\t\\t\\t\\t\\t\\t\\n\\t\\t\\t\\t\\t\\t\\t\\t\\n\\t\\t\\t\\t\\t\\t\\t\\t\\n\\n\\t\\t\\t\\t\\t\\t\\t\\t\\t(00분)\\n\\t\\t\\t\\t\\t\\t\\t\\t\\n\\n\\n\\t\\t\\t\\t\\t\\t\\t\\t\\t(00분)\\n\\t\\t\\t\\t\\t\\t\\t\\t\\n\\n',\n",
       " '6. 06강. Section 03 대칭키 암호_3.DES p.40\\n\\n\\t\\t\\t\\t\\t\\t\\t\\t \\n\\t\\t\\t\\t\\t\\t\\t\\t62분\\n\\t\\t\\t\\t\\t\\t\\t\\t\\n\\t\\t\\t\\t\\t\\t\\t\\t\\n\\t\\t\\t\\t\\t\\t\\t\\t\\n\\t\\t\\t\\t\\t\\t\\t\\t\\n\\t\\t\\t\\t\\t\\t\\t\\t\\n\\n\\t\\t\\t\\t\\t\\t\\t\\t\\t(00분)\\n\\t\\t\\t\\t\\t\\t\\t\\t\\n\\n\\n\\t\\t\\t\\t\\t\\t\\t\\t\\t(00분)\\n\\t\\t\\t\\t\\t\\t\\t\\t\\n\\n',\n",
       " '7. 07강. Section 03 대칭키 암호_2)Electronic CodeBook 모드 p.51\\n\\n\\t\\t\\t\\t\\t\\t\\t\\t \\n\\t\\t\\t\\t\\t\\t\\t\\t63분\\n\\t\\t\\t\\t\\t\\t\\t\\t\\n\\t\\t\\t\\t\\t\\t\\t\\t\\n\\t\\t\\t\\t\\t\\t\\t\\t\\n\\t\\t\\t\\t\\t\\t\\t\\t\\n\\t\\t\\t\\t\\t\\t\\t\\t\\n\\n\\t\\t\\t\\t\\t\\t\\t\\t\\t(00분)\\n\\t\\t\\t\\t\\t\\t\\t\\t\\n\\n\\n\\t\\t\\t\\t\\t\\t\\t\\t\\t(00분)\\n\\t\\t\\t\\t\\t\\t\\t\\t\\n\\n',\n",
       " '8. 08강. Section 04 비대칭키 암호_4)Diffie-Hellman 키 교환에 의한 해결 p.62\\n\\n\\t\\t\\t\\t\\t\\t\\t\\t \\n\\t\\t\\t\\t\\t\\t\\t\\t61분\\n\\t\\t\\t\\t\\t\\t\\t\\t\\n\\t\\t\\t\\t\\t\\t\\t\\t\\n\\t\\t\\t\\t\\t\\t\\t\\t\\n\\t\\t\\t\\t\\t\\t\\t\\t\\n\\t\\t\\t\\t\\t\\t\\t\\t\\n\\n\\t\\t\\t\\t\\t\\t\\t\\t\\t(00분)\\n\\t\\t\\t\\t\\t\\t\\t\\t\\n\\n\\n\\t\\t\\t\\t\\t\\t\\t\\t\\t(00분)\\n\\t\\t\\t\\t\\t\\t\\t\\t\\n\\n',\n",
       " '9. 09강. Section 04 비대칭키 암호_(4)Rabin 암호시스템 p.71\\n\\n\\t\\t\\t\\t\\t\\t\\t\\t \\n\\t\\t\\t\\t\\t\\t\\t\\t68분\\n\\t\\t\\t\\t\\t\\t\\t\\t\\n\\t\\t\\t\\t\\t\\t\\t\\t\\n\\t\\t\\t\\t\\t\\t\\t\\t\\n\\t\\t\\t\\t\\t\\t\\t\\t\\n\\t\\t\\t\\t\\t\\t\\t\\t\\n\\n\\t\\t\\t\\t\\t\\t\\t\\t\\t(00분)\\n\\t\\t\\t\\t\\t\\t\\t\\t\\n\\n\\n\\t\\t\\t\\t\\t\\t\\t\\t\\t(00분)\\n\\t\\t\\t\\t\\t\\t\\t\\t\\n\\n',\n",
       " '10. 10강. Section 05 해시함수와 응용_3. SHA p.83\\n\\n\\t\\t\\t\\t\\t\\t\\t\\t \\n\\t\\t\\t\\t\\t\\t\\t\\t62분\\n\\t\\t\\t\\t\\t\\t\\t\\t\\n\\t\\t\\t\\t\\t\\t\\t\\t\\n\\t\\t\\t\\t\\t\\t\\t\\t\\n\\t\\t\\t\\t\\t\\t\\t\\t\\n\\t\\t\\t\\t\\t\\t\\t\\t\\n\\n\\t\\t\\t\\t\\t\\t\\t\\t\\t(00분)\\n\\t\\t\\t\\t\\t\\t\\t\\t\\n\\n\\n\\t\\t\\t\\t\\t\\t\\t\\t\\t(00분)\\n\\t\\t\\t\\t\\t\\t\\t\\t\\n\\n',\n",
       " '11. 11강. Section 05 해시함수와 응용_(2) MAC의 구현 사례 p.92\\n\\n\\t\\t\\t\\t\\t\\t\\t\\t \\n\\t\\t\\t\\t\\t\\t\\t\\t61분\\n\\t\\t\\t\\t\\t\\t\\t\\t\\n\\t\\t\\t\\t\\t\\t\\t\\t\\n\\t\\t\\t\\t\\t\\t\\t\\t\\n\\t\\t\\t\\t\\t\\t\\t\\t\\n\\t\\t\\t\\t\\t\\t\\t\\t\\n\\n\\t\\t\\t\\t\\t\\t\\t\\t\\t(00분)\\n\\t\\t\\t\\t\\t\\t\\t\\t\\n\\n\\n\\t\\t\\t\\t\\t\\t\\t\\t\\t(00분)\\n\\t\\t\\t\\t\\t\\t\\t\\t\\n\\n',\n",
       " '12. 12강. Section 06 전자서명과 PKI_2. PKI(공개키 기반 구조) p.107\\n\\n\\t\\t\\t\\t\\t\\t\\t\\t \\n\\t\\t\\t\\t\\t\\t\\t\\t57분\\n\\t\\t\\t\\t\\t\\t\\t\\t\\n\\t\\t\\t\\t\\t\\t\\t\\t\\n\\t\\t\\t\\t\\t\\t\\t\\t\\n\\t\\t\\t\\t\\t\\t\\t\\t\\n\\t\\t\\t\\t\\t\\t\\t\\t\\n\\n\\t\\t\\t\\t\\t\\t\\t\\t\\t(00분)\\n\\t\\t\\t\\t\\t\\t\\t\\t\\n\\n\\n\\t\\t\\t\\t\\t\\t\\t\\t\\t(00분)\\n\\t\\t\\t\\t\\t\\t\\t\\t\\n\\n',\n",
       " '13. 13강. Section 08 접근통제 개요 p.124\\n\\n\\t\\t\\t\\t\\t\\t\\t\\t \\n\\t\\t\\t\\t\\t\\t\\t\\t60분\\n\\t\\t\\t\\t\\t\\t\\t\\t\\n\\t\\t\\t\\t\\t\\t\\t\\t\\n\\t\\t\\t\\t\\t\\t\\t\\t\\n\\t\\t\\t\\t\\t\\t\\t\\t\\n\\t\\t\\t\\t\\t\\t\\t\\t\\n\\n\\t\\t\\t\\t\\t\\t\\t\\t\\t(00분)\\n\\t\\t\\t\\t\\t\\t\\t\\t\\n\\n\\n\\t\\t\\t\\t\\t\\t\\t\\t\\t(00분)\\n\\t\\t\\t\\t\\t\\t\\t\\t\\n\\n',\n",
       " '14. 14강. Section 09 사용자 인증_2.사용자 인증 기법 p.124\\n\\n\\t\\t\\t\\t\\t\\t\\t\\t \\n\\t\\t\\t\\t\\t\\t\\t\\t61분\\n\\t\\t\\t\\t\\t\\t\\t\\t\\n\\t\\t\\t\\t\\t\\t\\t\\t\\n\\t\\t\\t\\t\\t\\t\\t\\t\\n\\t\\t\\t\\t\\t\\t\\t\\t\\n\\t\\t\\t\\t\\t\\t\\t\\t\\n\\n\\t\\t\\t\\t\\t\\t\\t\\t\\t(00분)\\n\\t\\t\\t\\t\\t\\t\\t\\t\\n\\n\\n\\t\\t\\t\\t\\t\\t\\t\\t\\t(00분)\\n\\t\\t\\t\\t\\t\\t\\t\\t\\n\\n',\n",
       " '15. 15강. Section 09 사용자 인증_(3).개체(생물학적) 특성 기반 인증 p.138\\n\\n\\t\\t\\t\\t\\t\\t\\t\\t \\n\\t\\t\\t\\t\\t\\t\\t\\t62분\\n\\t\\t\\t\\t\\t\\t\\t\\t\\n\\t\\t\\t\\t\\t\\t\\t\\t\\n\\t\\t\\t\\t\\t\\t\\t\\t\\n\\t\\t\\t\\t\\t\\t\\t\\t\\n\\t\\t\\t\\t\\t\\t\\t\\t\\n\\n\\t\\t\\t\\t\\t\\t\\t\\t\\t(00분)\\n\\t\\t\\t\\t\\t\\t\\t\\t\\n\\n\\n\\t\\t\\t\\t\\t\\t\\t\\t\\t(00분)\\n\\t\\t\\t\\t\\t\\t\\t\\t\\n\\n',\n",
       " '16. 16강. Section 10 접근통제 보안 모델 p.146\\n\\n\\t\\t\\t\\t\\t\\t\\t\\t \\n\\t\\t\\t\\t\\t\\t\\t\\t65분\\n\\t\\t\\t\\t\\t\\t\\t\\t\\n\\t\\t\\t\\t\\t\\t\\t\\t\\n\\t\\t\\t\\t\\t\\t\\t\\t\\n\\t\\t\\t\\t\\t\\t\\t\\t\\n\\t\\t\\t\\t\\t\\t\\t\\t\\n\\n\\t\\t\\t\\t\\t\\t\\t\\t\\t(00분)\\n\\t\\t\\t\\t\\t\\t\\t\\t\\n\\n\\n\\t\\t\\t\\t\\t\\t\\t\\t\\t(00분)\\n\\t\\t\\t\\t\\t\\t\\t\\t\\n\\n',\n",
       " '17. 17강. Section 10 접근통제 보안 모델_(1) 벨라파듈라 모델 p.153\\n\\n\\t\\t\\t\\t\\t\\t\\t\\t \\n\\t\\t\\t\\t\\t\\t\\t\\t64분\\n\\t\\t\\t\\t\\t\\t\\t\\t\\n\\t\\t\\t\\t\\t\\t\\t\\t\\n\\t\\t\\t\\t\\t\\t\\t\\t\\n\\t\\t\\t\\t\\t\\t\\t\\t\\n\\t\\t\\t\\t\\t\\t\\t\\t\\n\\n\\t\\t\\t\\t\\t\\t\\t\\t\\t(00분)\\n\\t\\t\\t\\t\\t\\t\\t\\t\\n\\n\\n\\t\\t\\t\\t\\t\\t\\t\\t\\t(00분)\\n\\t\\t\\t\\t\\t\\t\\t\\t\\n\\n',\n",
       " '18. 18강.Section 12 보안 운영체제 p.166\\n\\n\\t\\t\\t\\t\\t\\t\\t\\t \\n\\t\\t\\t\\t\\t\\t\\t\\t57분\\n\\t\\t\\t\\t\\t\\t\\t\\t\\n\\t\\t\\t\\t\\t\\t\\t\\t\\n\\t\\t\\t\\t\\t\\t\\t\\t\\n\\t\\t\\t\\t\\t\\t\\t\\t\\n\\t\\t\\t\\t\\t\\t\\t\\t\\n\\n\\t\\t\\t\\t\\t\\t\\t\\t\\t(00분)\\n\\t\\t\\t\\t\\t\\t\\t\\t\\n\\n\\n\\t\\t\\t\\t\\t\\t\\t\\t\\t(00분)\\n\\t\\t\\t\\t\\t\\t\\t\\t\\n\\n',\n",
       " '19. 19강. Section 13. 클라이언트보안 (3)웜(Worm) p.177\\n\\n\\t\\t\\t\\t\\t\\t\\t\\t \\n\\t\\t\\t\\t\\t\\t\\t\\t61분\\n\\t\\t\\t\\t\\t\\t\\t\\t\\n\\t\\t\\t\\t\\t\\t\\t\\t\\n\\t\\t\\t\\t\\t\\t\\t\\t\\n\\t\\t\\t\\t\\t\\t\\t\\t\\n\\t\\t\\t\\t\\t\\t\\t\\t\\n\\n\\t\\t\\t\\t\\t\\t\\t\\t\\t(00분)\\n\\t\\t\\t\\t\\t\\t\\t\\t\\n\\n\\n\\t\\t\\t\\t\\t\\t\\t\\t\\t(00분)\\n\\t\\t\\t\\t\\t\\t\\t\\t\\n\\n',\n",
       " '20. 20강. Section 14. 윈도우 서버보안 3)윈도우 파일시스템 p.188\\n\\n\\t\\t\\t\\t\\t\\t\\t\\t \\n\\t\\t\\t\\t\\t\\t\\t\\t72분\\n\\t\\t\\t\\t\\t\\t\\t\\t\\n\\t\\t\\t\\t\\t\\t\\t\\t\\n\\t\\t\\t\\t\\t\\t\\t\\t\\n\\t\\t\\t\\t\\t\\t\\t\\t\\n\\t\\t\\t\\t\\t\\t\\t\\t\\n\\n\\t\\t\\t\\t\\t\\t\\t\\t\\t(00분)\\n\\t\\t\\t\\t\\t\\t\\t\\t\\n\\n\\n\\t\\t\\t\\t\\t\\t\\t\\t\\t(00분)\\n\\t\\t\\t\\t\\t\\t\\t\\t\\n\\n',\n",
       " '21. 21강 [유닉스/리눅스특강 01] 유닉스 개요 p.1~\\n\\n\\t\\t\\t\\t\\t\\t\\t\\t \\n\\t\\t\\t\\t\\t\\t\\t\\t61분\\n\\t\\t\\t\\t\\t\\t\\t\\t\\n\\t\\t\\t\\t\\t\\t\\t\\t\\n\\t\\t\\t\\t\\t\\t\\t\\t\\n\\t\\t\\t\\t\\t\\t\\t\\t\\n\\t\\t\\t\\t\\t\\t\\t\\t\\n\\n\\t\\t\\t\\t\\t\\t\\t\\t\\t(00분)\\n\\t\\t\\t\\t\\t\\t\\t\\t\\n\\n\\n\\t\\t\\t\\t\\t\\t\\t\\t\\t(00분)\\n\\t\\t\\t\\t\\t\\t\\t\\t\\n\\n',\n",
       " '22. 22강 [유닉스/리눅스특강 02] 파일의 권한관리 p.17~\\n\\n\\t\\t\\t\\t\\t\\t\\t\\t \\n\\t\\t\\t\\t\\t\\t\\t\\t61분\\n\\t\\t\\t\\t\\t\\t\\t\\t\\n\\t\\t\\t\\t\\t\\t\\t\\t\\n\\t\\t\\t\\t\\t\\t\\t\\t\\n\\t\\t\\t\\t\\t\\t\\t\\t\\n\\t\\t\\t\\t\\t\\t\\t\\t\\n\\n\\t\\t\\t\\t\\t\\t\\t\\t\\t(00분)\\n\\t\\t\\t\\t\\t\\t\\t\\t\\n\\n\\n\\t\\t\\t\\t\\t\\t\\t\\t\\t(00분)\\n\\t\\t\\t\\t\\t\\t\\t\\t\\n\\n',\n",
       " '23. 23강 [유닉스/리눅스특강 03] 유닉스 서버 보안 p.36~\\n\\n\\t\\t\\t\\t\\t\\t\\t\\t \\n\\t\\t\\t\\t\\t\\t\\t\\t70분\\n\\t\\t\\t\\t\\t\\t\\t\\t\\n\\t\\t\\t\\t\\t\\t\\t\\t\\n\\t\\t\\t\\t\\t\\t\\t\\t\\n\\t\\t\\t\\t\\t\\t\\t\\t\\n\\t\\t\\t\\t\\t\\t\\t\\t\\n\\n\\t\\t\\t\\t\\t\\t\\t\\t\\t(00분)\\n\\t\\t\\t\\t\\t\\t\\t\\t\\n\\n\\n\\t\\t\\t\\t\\t\\t\\t\\t\\t(00분)\\n\\t\\t\\t\\t\\t\\t\\t\\t\\n\\n',\n",
       " '24. 24강. Section 16. 서버 보안 관리 p.244\\n\\n\\t\\t\\t\\t\\t\\t\\t\\t \\n\\t\\t\\t\\t\\t\\t\\t\\t67분\\n\\t\\t\\t\\t\\t\\t\\t\\t\\n\\t\\t\\t\\t\\t\\t\\t\\t\\n\\t\\t\\t\\t\\t\\t\\t\\t\\n\\t\\t\\t\\t\\t\\t\\t\\t\\n\\t\\t\\t\\t\\t\\t\\t\\t\\n\\n\\t\\t\\t\\t\\t\\t\\t\\t\\t(00분)\\n\\t\\t\\t\\t\\t\\t\\t\\t\\n\\n\\n\\t\\t\\t\\t\\t\\t\\t\\t\\t(00분)\\n\\t\\t\\t\\t\\t\\t\\t\\t\\n\\n',\n",
       " '25. 25강. Section 17. 각종 시스템 보안위협 및 대응책 p.264\\n\\n\\t\\t\\t\\t\\t\\t\\t\\t \\n\\t\\t\\t\\t\\t\\t\\t\\t77분\\n\\t\\t\\t\\t\\t\\t\\t\\t\\n\\t\\t\\t\\t\\t\\t\\t\\t\\n\\t\\t\\t\\t\\t\\t\\t\\t\\n\\t\\t\\t\\t\\t\\t\\t\\t\\n\\t\\t\\t\\t\\t\\t\\t\\t\\n\\n\\t\\t\\t\\t\\t\\t\\t\\t\\t(00분)\\n\\t\\t\\t\\t\\t\\t\\t\\t\\n\\n\\n\\t\\t\\t\\t\\t\\t\\t\\t\\t(00분)\\n\\t\\t\\t\\t\\t\\t\\t\\t\\n\\n',\n",
       " '26. 26강. Section 17. 각종 시스템 보안위협 및 대응책 4. 백도어 p.275\\n\\n\\t\\t\\t\\t\\t\\t\\t\\t \\n\\t\\t\\t\\t\\t\\t\\t\\t89분\\n\\t\\t\\t\\t\\t\\t\\t\\t\\n\\t\\t\\t\\t\\t\\t\\t\\t\\n\\t\\t\\t\\t\\t\\t\\t\\t\\n\\t\\t\\t\\t\\t\\t\\t\\t\\n\\t\\t\\t\\t\\t\\t\\t\\t\\n\\n\\t\\t\\t\\t\\t\\t\\t\\t\\t(00분)\\n\\t\\t\\t\\t\\t\\t\\t\\t\\n\\n\\n\\t\\t\\t\\t\\t\\t\\t\\t\\t(00분)\\n\\t\\t\\t\\t\\t\\t\\t\\t\\n\\n',\n",
       " '27. 27강. Section 18. 최신 보안 주제들 p.282\\n\\n\\t\\t\\t\\t\\t\\t\\t\\t \\n\\t\\t\\t\\t\\t\\t\\t\\t63분\\n\\t\\t\\t\\t\\t\\t\\t\\t\\n\\t\\t\\t\\t\\t\\t\\t\\t\\n\\t\\t\\t\\t\\t\\t\\t\\t\\n\\t\\t\\t\\t\\t\\t\\t\\t\\n\\t\\t\\t\\t\\t\\t\\t\\t\\n\\n\\t\\t\\t\\t\\t\\t\\t\\t\\t(00분)\\n\\t\\t\\t\\t\\t\\t\\t\\t\\n\\n\\n\\t\\t\\t\\t\\t\\t\\t\\t\\t(00분)\\n\\t\\t\\t\\t\\t\\t\\t\\t\\n\\n',\n",
       " '28. 28강 Section 19. 네트워크 개요(데이터통신) p.304\\n\\n\\t\\t\\t\\t\\t\\t\\t\\t \\n\\t\\t\\t\\t\\t\\t\\t\\t61분\\n\\t\\t\\t\\t\\t\\t\\t\\t\\n\\t\\t\\t\\t\\t\\t\\t\\t\\n\\t\\t\\t\\t\\t\\t\\t\\t\\n\\t\\t\\t\\t\\t\\t\\t\\t\\n\\t\\t\\t\\t\\t\\t\\t\\t\\n\\n\\t\\t\\t\\t\\t\\t\\t\\t\\t(00분)\\n\\t\\t\\t\\t\\t\\t\\t\\t\\n\\n\\n\\t\\t\\t\\t\\t\\t\\t\\t\\t(00분)\\n\\t\\t\\t\\t\\t\\t\\t\\t\\n\\n',\n",
       " '29. 29강 Section 19. 네트워크 개요(교환) p.311\\n\\n\\t\\t\\t\\t\\t\\t\\t\\t \\n\\t\\t\\t\\t\\t\\t\\t\\t61분\\n\\t\\t\\t\\t\\t\\t\\t\\t\\n\\t\\t\\t\\t\\t\\t\\t\\t\\n\\t\\t\\t\\t\\t\\t\\t\\t\\n\\t\\t\\t\\t\\t\\t\\t\\t\\n\\t\\t\\t\\t\\t\\t\\t\\t\\n\\n\\t\\t\\t\\t\\t\\t\\t\\t\\t(00분)\\n\\t\\t\\t\\t\\t\\t\\t\\t\\n\\n\\n\\t\\t\\t\\t\\t\\t\\t\\t\\t(00분)\\n\\t\\t\\t\\t\\t\\t\\t\\t\\n\\n',\n",
       " '30. 30강 Section 20. TCP/IP(서브네팅과 슈퍼네팅) p.319~\\n\\n\\t\\t\\t\\t\\t\\t\\t\\t \\n\\t\\t\\t\\t\\t\\t\\t\\t64분\\n\\t\\t\\t\\t\\t\\t\\t\\t\\n\\t\\t\\t\\t\\t\\t\\t\\t\\n\\t\\t\\t\\t\\t\\t\\t\\t\\n\\t\\t\\t\\t\\t\\t\\t\\t\\n\\t\\t\\t\\t\\t\\t\\t\\t\\n\\n\\t\\t\\t\\t\\t\\t\\t\\t\\t(00분)\\n\\t\\t\\t\\t\\t\\t\\t\\t\\n\\n\\n\\t\\t\\t\\t\\t\\t\\t\\t\\t(00분)\\n\\t\\t\\t\\t\\t\\t\\t\\t\\n\\n',\n",
       " '31. 31강 Section 19. TCP/IP(네트워크 계층 프로토콜) p.321\\n\\n\\t\\t\\t\\t\\t\\t\\t\\t \\n\\t\\t\\t\\t\\t\\t\\t\\t67분\\n\\t\\t\\t\\t\\t\\t\\t\\t\\n\\t\\t\\t\\t\\t\\t\\t\\t\\n\\t\\t\\t\\t\\t\\t\\t\\t\\n\\t\\t\\t\\t\\t\\t\\t\\t\\n\\t\\t\\t\\t\\t\\t\\t\\t\\n\\n\\t\\t\\t\\t\\t\\t\\t\\t\\t(00분)\\n\\t\\t\\t\\t\\t\\t\\t\\t\\n\\n\\n\\t\\t\\t\\t\\t\\t\\t\\t\\t(00분)\\n\\t\\t\\t\\t\\t\\t\\t\\t\\n\\n',\n",
       " '32. 32강 TCP/IP(전송계층) p.331\\n\\n\\t\\t\\t\\t\\t\\t\\t\\t \\n\\t\\t\\t\\t\\t\\t\\t\\t58분\\n\\t\\t\\t\\t\\t\\t\\t\\t\\n\\t\\t\\t\\t\\t\\t\\t\\t\\n\\t\\t\\t\\t\\t\\t\\t\\t\\n\\t\\t\\t\\t\\t\\t\\t\\t\\n\\t\\t\\t\\t\\t\\t\\t\\t\\n\\n\\t\\t\\t\\t\\t\\t\\t\\t\\t(00분)\\n\\t\\t\\t\\t\\t\\t\\t\\t\\n\\n\\n\\t\\t\\t\\t\\t\\t\\t\\t\\t(00분)\\n\\t\\t\\t\\t\\t\\t\\t\\t\\n\\n',\n",
       " '33. 33강. Section 21. 라우팅 p.342\\n\\n\\t\\t\\t\\t\\t\\t\\t\\t \\n\\t\\t\\t\\t\\t\\t\\t\\t62분\\n\\t\\t\\t\\t\\t\\t\\t\\t\\n\\t\\t\\t\\t\\t\\t\\t\\t\\n\\t\\t\\t\\t\\t\\t\\t\\t\\n\\t\\t\\t\\t\\t\\t\\t\\t\\n\\t\\t\\t\\t\\t\\t\\t\\t\\n\\n\\t\\t\\t\\t\\t\\t\\t\\t\\t(00분)\\n\\t\\t\\t\\t\\t\\t\\t\\t\\n\\n\\n\\t\\t\\t\\t\\t\\t\\t\\t\\t(00분)\\n\\t\\t\\t\\t\\t\\t\\t\\t\\n\\n',\n",
       " '34. 34강. Section 21. 라우팅 (라) 엑세스 리스트를 인터페이스에 적용 p.355\\n\\n\\t\\t\\t\\t\\t\\t\\t\\t \\n\\t\\t\\t\\t\\t\\t\\t\\t60분\\n\\t\\t\\t\\t\\t\\t\\t\\t\\n\\t\\t\\t\\t\\t\\t\\t\\t\\n\\t\\t\\t\\t\\t\\t\\t\\t\\n\\t\\t\\t\\t\\t\\t\\t\\t\\n\\t\\t\\t\\t\\t\\t\\t\\t\\n\\n\\t\\t\\t\\t\\t\\t\\t\\t\\t(00분)\\n\\t\\t\\t\\t\\t\\t\\t\\t\\n\\n\\n\\t\\t\\t\\t\\t\\t\\t\\t\\t(00분)\\n\\t\\t\\t\\t\\t\\t\\t\\t\\n\\n',\n",
       " '35. 35강. Section 22. 네트워크 장비의 이해 (5) 라우터 p.363\\n\\n\\t\\t\\t\\t\\t\\t\\t\\t \\n\\t\\t\\t\\t\\t\\t\\t\\t59분\\n\\t\\t\\t\\t\\t\\t\\t\\t\\n\\t\\t\\t\\t\\t\\t\\t\\t\\n\\t\\t\\t\\t\\t\\t\\t\\t\\n\\t\\t\\t\\t\\t\\t\\t\\t\\n\\t\\t\\t\\t\\t\\t\\t\\t\\n\\n\\t\\t\\t\\t\\t\\t\\t\\t\\t(00분)\\n\\t\\t\\t\\t\\t\\t\\t\\t\\n\\n\\n\\t\\t\\t\\t\\t\\t\\t\\t\\t(00분)\\n\\t\\t\\t\\t\\t\\t\\t\\t\\n\\n',\n",
       " '36. 36강. Section 23. 무선통신 보안 (라) 무선암호화 방식 p.376\\n\\n\\t\\t\\t\\t\\t\\t\\t\\t \\n\\t\\t\\t\\t\\t\\t\\t\\t62분\\n\\t\\t\\t\\t\\t\\t\\t\\t\\n\\t\\t\\t\\t\\t\\t\\t\\t\\n\\t\\t\\t\\t\\t\\t\\t\\t\\n\\t\\t\\t\\t\\t\\t\\t\\t\\n\\t\\t\\t\\t\\t\\t\\t\\t\\n\\n\\t\\t\\t\\t\\t\\t\\t\\t\\t(00분)\\n\\t\\t\\t\\t\\t\\t\\t\\t\\n\\n\\n\\t\\t\\t\\t\\t\\t\\t\\t\\t(00분)\\n\\t\\t\\t\\t\\t\\t\\t\\t\\n\\n',\n",
       " '37. 37강. Section 23. 무선통신 보안 4. 디바이스 인증기술(기기 인증) p.391\\n\\n\\t\\t\\t\\t\\t\\t\\t\\t \\n\\t\\t\\t\\t\\t\\t\\t\\t62분\\n\\t\\t\\t\\t\\t\\t\\t\\t\\n\\t\\t\\t\\t\\t\\t\\t\\t\\n\\t\\t\\t\\t\\t\\t\\t\\t\\n\\t\\t\\t\\t\\t\\t\\t\\t\\n\\t\\t\\t\\t\\t\\t\\t\\t\\n\\n\\t\\t\\t\\t\\t\\t\\t\\t\\t(00분)\\n\\t\\t\\t\\t\\t\\t\\t\\t\\n\\n\\n\\t\\t\\t\\t\\t\\t\\t\\t\\t(00분)\\n\\t\\t\\t\\t\\t\\t\\t\\t\\n\\n',\n",
       " '38. 38강. Section 25. 네트워크 기반 프로그램 활용 p.411\\n\\n\\t\\t\\t\\t\\t\\t\\t\\t \\n\\t\\t\\t\\t\\t\\t\\t\\t58분\\n\\t\\t\\t\\t\\t\\t\\t\\t\\n\\t\\t\\t\\t\\t\\t\\t\\t\\n\\t\\t\\t\\t\\t\\t\\t\\t\\n\\t\\t\\t\\t\\t\\t\\t\\t\\n\\t\\t\\t\\t\\t\\t\\t\\t\\n\\n\\t\\t\\t\\t\\t\\t\\t\\t\\t(00분)\\n\\t\\t\\t\\t\\t\\t\\t\\t\\n\\n\\n\\t\\t\\t\\t\\t\\t\\t\\t\\t(00분)\\n\\t\\t\\t\\t\\t\\t\\t\\t\\n\\n',\n",
       " '39. 39강. Section 26. 네트워크 기반 공격의 이해 p.422\\n\\n\\t\\t\\t\\t\\t\\t\\t\\t \\n\\t\\t\\t\\t\\t\\t\\t\\t69분\\n\\t\\t\\t\\t\\t\\t\\t\\t\\n\\t\\t\\t\\t\\t\\t\\t\\t\\n\\t\\t\\t\\t\\t\\t\\t\\t\\n\\t\\t\\t\\t\\t\\t\\t\\t\\n\\t\\t\\t\\t\\t\\t\\t\\t\\n\\n\\t\\t\\t\\t\\t\\t\\t\\t\\t(00분)\\n\\t\\t\\t\\t\\t\\t\\t\\t\\n\\n\\n\\t\\t\\t\\t\\t\\t\\t\\t\\t(00분)\\n\\t\\t\\t\\t\\t\\t\\t\\t\\n\\n',\n",
       " '40. 40강. Section 26. 네트워크 기반 공격의 이해 p.431\\n\\n\\t\\t\\t\\t\\t\\t\\t\\t \\n\\t\\t\\t\\t\\t\\t\\t\\t45분\\n\\t\\t\\t\\t\\t\\t\\t\\t\\n\\t\\t\\t\\t\\t\\t\\t\\t\\n\\t\\t\\t\\t\\t\\t\\t\\t\\n\\t\\t\\t\\t\\t\\t\\t\\t\\n\\t\\t\\t\\t\\t\\t\\t\\t\\n\\n\\t\\t\\t\\t\\t\\t\\t\\t\\t(00분)\\n\\t\\t\\t\\t\\t\\t\\t\\t\\n\\n\\n\\t\\t\\t\\t\\t\\t\\t\\t\\t(00분)\\n\\t\\t\\t\\t\\t\\t\\t\\t\\n\\n',\n",
       " '41. 41강. Section 26. 네트워크 기반 공격의 이해 (나) DRDoS 공격의 위협요소 p.439\\n\\n\\t\\t\\t\\t\\t\\t\\t\\t \\n\\t\\t\\t\\t\\t\\t\\t\\t57분\\n\\t\\t\\t\\t\\t\\t\\t\\t\\n\\t\\t\\t\\t\\t\\t\\t\\t\\n\\t\\t\\t\\t\\t\\t\\t\\t\\n\\t\\t\\t\\t\\t\\t\\t\\t\\n\\t\\t\\t\\t\\t\\t\\t\\t\\n\\n\\t\\t\\t\\t\\t\\t\\t\\t\\t(00분)\\n\\t\\t\\t\\t\\t\\t\\t\\t\\n\\n\\n\\t\\t\\t\\t\\t\\t\\t\\t\\t(00분)\\n\\t\\t\\t\\t\\t\\t\\t\\t\\n\\n',\n",
       " '42. 42강. Section 26. 네트워크 기반 공격의 이해 ④ ICMP 리다이렉트(Redirect) p.449\\n\\n\\t\\t\\t\\t\\t\\t\\t\\t \\n\\t\\t\\t\\t\\t\\t\\t\\t61분\\n\\t\\t\\t\\t\\t\\t\\t\\t\\n\\t\\t\\t\\t\\t\\t\\t\\t\\n\\t\\t\\t\\t\\t\\t\\t\\t\\n\\t\\t\\t\\t\\t\\t\\t\\t\\n\\t\\t\\t\\t\\t\\t\\t\\t\\n\\n\\t\\t\\t\\t\\t\\t\\t\\t\\t(00분)\\n\\t\\t\\t\\t\\t\\t\\t\\t\\n\\n\\n\\t\\t\\t\\t\\t\\t\\t\\t\\t(00분)\\n\\t\\t\\t\\t\\t\\t\\t\\t\\n\\n',\n",
       " '43. 43강. Section 27. IDS/IPS 1. 침입탐지시스템(IDS) p.465\\n\\n\\t\\t\\t\\t\\t\\t\\t\\t \\n\\t\\t\\t\\t\\t\\t\\t\\t59분\\n\\t\\t\\t\\t\\t\\t\\t\\t\\n\\t\\t\\t\\t\\t\\t\\t\\t\\n\\t\\t\\t\\t\\t\\t\\t\\t\\n\\t\\t\\t\\t\\t\\t\\t\\t\\n\\t\\t\\t\\t\\t\\t\\t\\t\\n\\n\\t\\t\\t\\t\\t\\t\\t\\t\\t(00분)\\n\\t\\t\\t\\t\\t\\t\\t\\t\\n\\n\\n\\t\\t\\t\\t\\t\\t\\t\\t\\t(00분)\\n\\t\\t\\t\\t\\t\\t\\t\\t\\n\\n',\n",
       " '44. 44강. Section 27. IDS/IPS 2. 침입방지시스템(IPS) p.477\\n\\n\\t\\t\\t\\t\\t\\t\\t\\t \\n\\t\\t\\t\\t\\t\\t\\t\\t63분\\n\\t\\t\\t\\t\\t\\t\\t\\t\\n\\t\\t\\t\\t\\t\\t\\t\\t\\n\\t\\t\\t\\t\\t\\t\\t\\t\\n\\t\\t\\t\\t\\t\\t\\t\\t\\n\\t\\t\\t\\t\\t\\t\\t\\t\\n\\n\\t\\t\\t\\t\\t\\t\\t\\t\\t(00분)\\n\\t\\t\\t\\t\\t\\t\\t\\t\\n\\n\\n\\t\\t\\t\\t\\t\\t\\t\\t\\t(00분)\\n\\t\\t\\t\\t\\t\\t\\t\\t\\n\\n',\n",
       " '45. 45강. Section 28. 침입차단시스템 (3)스테이트풀 패킷 검사 침입차단시스템 p.488\\n\\n\\t\\t\\t\\t\\t\\t\\t\\t \\n\\t\\t\\t\\t\\t\\t\\t\\t64분\\n\\t\\t\\t\\t\\t\\t\\t\\t\\n\\t\\t\\t\\t\\t\\t\\t\\t\\n\\t\\t\\t\\t\\t\\t\\t\\t\\n\\t\\t\\t\\t\\t\\t\\t\\t\\n\\t\\t\\t\\t\\t\\t\\t\\t\\n\\n\\t\\t\\t\\t\\t\\t\\t\\t\\t(00분)\\n\\t\\t\\t\\t\\t\\t\\t\\t\\n\\n\\n\\t\\t\\t\\t\\t\\t\\t\\t\\t(00분)\\n\\t\\t\\t\\t\\t\\t\\t\\t\\n\\n',\n",
       " '46. 46강. Section 29. VPN_3) 특징 p.501\\n\\n\\t\\t\\t\\t\\t\\t\\t\\t \\n\\t\\t\\t\\t\\t\\t\\t\\t61분\\n\\t\\t\\t\\t\\t\\t\\t\\t\\n\\t\\t\\t\\t\\t\\t\\t\\t\\n\\t\\t\\t\\t\\t\\t\\t\\t\\n\\t\\t\\t\\t\\t\\t\\t\\t\\n\\t\\t\\t\\t\\t\\t\\t\\t\\n\\n\\t\\t\\t\\t\\t\\t\\t\\t\\t(00분)\\n\\t\\t\\t\\t\\t\\t\\t\\t\\n\\n\\n\\t\\t\\t\\t\\t\\t\\t\\t\\t(00분)\\n\\t\\t\\t\\t\\t\\t\\t\\t\\n\\n',\n",
       " '47. 47강. Section 29. VPN_(5) 보안연계 p.513\\n\\n\\t\\t\\t\\t\\t\\t\\t\\t \\n\\t\\t\\t\\t\\t\\t\\t\\t61분\\n\\t\\t\\t\\t\\t\\t\\t\\t\\n\\t\\t\\t\\t\\t\\t\\t\\t\\n\\t\\t\\t\\t\\t\\t\\t\\t\\n\\t\\t\\t\\t\\t\\t\\t\\t\\n\\t\\t\\t\\t\\t\\t\\t\\t\\n\\n\\t\\t\\t\\t\\t\\t\\t\\t\\t(00분)\\n\\t\\t\\t\\t\\t\\t\\t\\t\\n\\n\\n\\t\\t\\t\\t\\t\\t\\t\\t\\t(00분)\\n\\t\\t\\t\\t\\t\\t\\t\\t\\n\\n',\n",
       " '48. 48강. Section 31. FTP 보안_(4) NFS와 심바 p.531\\n\\n\\t\\t\\t\\t\\t\\t\\t\\t \\n\\t\\t\\t\\t\\t\\t\\t\\t63분\\n\\t\\t\\t\\t\\t\\t\\t\\t\\n\\t\\t\\t\\t\\t\\t\\t\\t\\n\\t\\t\\t\\t\\t\\t\\t\\t\\n\\t\\t\\t\\t\\t\\t\\t\\t\\n\\t\\t\\t\\t\\t\\t\\t\\t\\n\\n\\t\\t\\t\\t\\t\\t\\t\\t\\t(00분)\\n\\t\\t\\t\\t\\t\\t\\t\\t\\n\\n\\n\\t\\t\\t\\t\\t\\t\\t\\t\\t(00분)\\n\\t\\t\\t\\t\\t\\t\\t\\t\\n\\n',\n",
       " '49. 49강. Section 32. 이메일 보안_5) PGP 인증서 p.544\\n\\n\\t\\t\\t\\t\\t\\t\\t\\t \\n\\t\\t\\t\\t\\t\\t\\t\\t42분\\n\\t\\t\\t\\t\\t\\t\\t\\t\\n\\t\\t\\t\\t\\t\\t\\t\\t\\n\\t\\t\\t\\t\\t\\t\\t\\t\\n\\t\\t\\t\\t\\t\\t\\t\\t\\n\\t\\t\\t\\t\\t\\t\\t\\t\\n\\n\\t\\t\\t\\t\\t\\t\\t\\t\\t(00분)\\n\\t\\t\\t\\t\\t\\t\\t\\t\\n\\n\\n\\t\\t\\t\\t\\t\\t\\t\\t\\t(00분)\\n\\t\\t\\t\\t\\t\\t\\t\\t\\n\\n',\n",
       " '50. 50강. Section 33. 웹 보안_3.SSL/TLS p.562\\n\\n\\t\\t\\t\\t\\t\\t\\t\\t \\n\\t\\t\\t\\t\\t\\t\\t\\t76분\\n\\t\\t\\t\\t\\t\\t\\t\\t\\n\\t\\t\\t\\t\\t\\t\\t\\t\\n\\t\\t\\t\\t\\t\\t\\t\\t\\n\\t\\t\\t\\t\\t\\t\\t\\t\\n\\t\\t\\t\\t\\t\\t\\t\\t\\n\\n\\t\\t\\t\\t\\t\\t\\t\\t\\t(00분)\\n\\t\\t\\t\\t\\t\\t\\t\\t\\n\\n\\n\\t\\t\\t\\t\\t\\t\\t\\t\\t(00분)\\n\\t\\t\\t\\t\\t\\t\\t\\t\\n\\n',\n",
       " '51. 51강. Section 33. 웹 보안_(다) SQL Injection 공격 종류 p.580\\n\\n\\t\\t\\t\\t\\t\\t\\t\\t \\n\\t\\t\\t\\t\\t\\t\\t\\t59분\\n\\t\\t\\t\\t\\t\\t\\t\\t\\n\\t\\t\\t\\t\\t\\t\\t\\t\\n\\t\\t\\t\\t\\t\\t\\t\\t\\n\\t\\t\\t\\t\\t\\t\\t\\t\\n\\t\\t\\t\\t\\t\\t\\t\\t\\n\\n\\t\\t\\t\\t\\t\\t\\t\\t\\t(00분)\\n\\t\\t\\t\\t\\t\\t\\t\\t\\n\\n\\n\\t\\t\\t\\t\\t\\t\\t\\t\\t(00분)\\n\\t\\t\\t\\t\\t\\t\\t\\t\\n\\n',\n",
       " '52. 52강. Section 34. DHCP와 DNS p.596\\n\\n\\t\\t\\t\\t\\t\\t\\t\\t \\n\\t\\t\\t\\t\\t\\t\\t\\t61분\\n\\t\\t\\t\\t\\t\\t\\t\\t\\n\\t\\t\\t\\t\\t\\t\\t\\t\\n\\t\\t\\t\\t\\t\\t\\t\\t\\n\\t\\t\\t\\t\\t\\t\\t\\t\\n\\t\\t\\t\\t\\t\\t\\t\\t\\n\\n\\t\\t\\t\\t\\t\\t\\t\\t\\t(00분)\\n\\t\\t\\t\\t\\t\\t\\t\\t\\n\\n\\n\\t\\t\\t\\t\\t\\t\\t\\t\\t(00분)\\n\\t\\t\\t\\t\\t\\t\\t\\t\\n\\n',\n",
       " '53. 53강. Section 35. 데이터베이스 보안 p.611\\n\\n\\t\\t\\t\\t\\t\\t\\t\\t \\n\\t\\t\\t\\t\\t\\t\\t\\t65분\\n\\t\\t\\t\\t\\t\\t\\t\\t\\n\\t\\t\\t\\t\\t\\t\\t\\t\\n\\t\\t\\t\\t\\t\\t\\t\\t\\n\\t\\t\\t\\t\\t\\t\\t\\t\\n\\t\\t\\t\\t\\t\\t\\t\\t\\n\\n\\t\\t\\t\\t\\t\\t\\t\\t\\t(00분)\\n\\t\\t\\t\\t\\t\\t\\t\\t\\n\\n\\n\\t\\t\\t\\t\\t\\t\\t\\t\\t(00분)\\n\\t\\t\\t\\t\\t\\t\\t\\t\\n\\n',\n",
       " '54. 54강. Section 37. 침해사고대응(디지털 포렌식) p.633\\n\\n\\t\\t\\t\\t\\t\\t\\t\\t \\n\\t\\t\\t\\t\\t\\t\\t\\t59분\\n\\t\\t\\t\\t\\t\\t\\t\\t\\n\\t\\t\\t\\t\\t\\t\\t\\t\\n\\t\\t\\t\\t\\t\\t\\t\\t\\n\\t\\t\\t\\t\\t\\t\\t\\t\\n\\t\\t\\t\\t\\t\\t\\t\\t\\n\\n\\t\\t\\t\\t\\t\\t\\t\\t\\t(00분)\\n\\t\\t\\t\\t\\t\\t\\t\\t\\n\\n\\n\\t\\t\\t\\t\\t\\t\\t\\t\\t(00분)\\n\\t\\t\\t\\t\\t\\t\\t\\t\\n\\n',\n",
       " '55. 55강. Part 07 정보보호 관리 및 법규 p.652\\n\\n\\t\\t\\t\\t\\t\\t\\t\\t \\n\\t\\t\\t\\t\\t\\t\\t\\t60분\\n\\t\\t\\t\\t\\t\\t\\t\\t\\n\\t\\t\\t\\t\\t\\t\\t\\t\\n\\t\\t\\t\\t\\t\\t\\t\\t\\n\\t\\t\\t\\t\\t\\t\\t\\t\\n\\t\\t\\t\\t\\t\\t\\t\\t\\n\\n\\t\\t\\t\\t\\t\\t\\t\\t\\t(00분)\\n\\t\\t\\t\\t\\t\\t\\t\\t\\n\\n\\n\\t\\t\\t\\t\\t\\t\\t\\t\\t(00분)\\n\\t\\t\\t\\t\\t\\t\\t\\t\\n\\n',\n",
       " '56. 56강. Section 39 정보보호 거버넌스와 관리 체계 수립 (2)정보보호 정책을 구현하기 위한 요소 p.658\\n\\n\\t\\t\\t\\t\\t\\t\\t\\t \\n\\t\\t\\t\\t\\t\\t\\t\\t64분\\n\\t\\t\\t\\t\\t\\t\\t\\t\\n\\t\\t\\t\\t\\t\\t\\t\\t\\n\\t\\t\\t\\t\\t\\t\\t\\t\\n\\t\\t\\t\\t\\t\\t\\t\\t\\n\\t\\t\\t\\t\\t\\t\\t\\t\\n\\n\\t\\t\\t\\t\\t\\t\\t\\t\\t(00분)\\n\\t\\t\\t\\t\\t\\t\\t\\t\\n\\n\\n\\t\\t\\t\\t\\t\\t\\t\\t\\t(00분)\\n\\t\\t\\t\\t\\t\\t\\t\\t\\n\\n',\n",
       " '57. 57강. Section 40 정보보호 위험 관리 p.667\\n\\n\\t\\t\\t\\t\\t\\t\\t\\t \\n\\t\\t\\t\\t\\t\\t\\t\\t60분\\n\\t\\t\\t\\t\\t\\t\\t\\t\\n\\t\\t\\t\\t\\t\\t\\t\\t\\n\\t\\t\\t\\t\\t\\t\\t\\t\\n\\t\\t\\t\\t\\t\\t\\t\\t\\n\\t\\t\\t\\t\\t\\t\\t\\t\\n\\n\\t\\t\\t\\t\\t\\t\\t\\t\\t(00분)\\n\\t\\t\\t\\t\\t\\t\\t\\t\\n\\n\\n\\t\\t\\t\\t\\t\\t\\t\\t\\t(00분)\\n\\t\\t\\t\\t\\t\\t\\t\\t\\n\\n',\n",
       " '58. 58강. Section 41 BCP/DRP p.678\\n\\n\\t\\t\\t\\t\\t\\t\\t\\t \\n\\t\\t\\t\\t\\t\\t\\t\\t63분\\n\\t\\t\\t\\t\\t\\t\\t\\t\\n\\t\\t\\t\\t\\t\\t\\t\\t\\n\\t\\t\\t\\t\\t\\t\\t\\t\\n\\t\\t\\t\\t\\t\\t\\t\\t\\n\\t\\t\\t\\t\\t\\t\\t\\t\\n\\n\\t\\t\\t\\t\\t\\t\\t\\t\\t(00분)\\n\\t\\t\\t\\t\\t\\t\\t\\t\\n\\n\\n\\t\\t\\t\\t\\t\\t\\t\\t\\t(00분)\\n\\t\\t\\t\\t\\t\\t\\t\\t\\n\\n',\n",
       " '59. 59강. Section 42 정보보호 인증제도 p.689\\n\\n\\t\\t\\t\\t\\t\\t\\t\\t \\n\\t\\t\\t\\t\\t\\t\\t\\t64분\\n\\t\\t\\t\\t\\t\\t\\t\\t\\n\\t\\t\\t\\t\\t\\t\\t\\t\\n\\t\\t\\t\\t\\t\\t\\t\\t\\n\\t\\t\\t\\t\\t\\t\\t\\t\\n\\t\\t\\t\\t\\t\\t\\t\\t\\n\\n\\t\\t\\t\\t\\t\\t\\t\\t\\t(00분)\\n\\t\\t\\t\\t\\t\\t\\t\\t\\n\\n\\n\\t\\t\\t\\t\\t\\t\\t\\t\\t(00분)\\n\\t\\t\\t\\t\\t\\t\\t\\t\\n\\n',\n",
       " '60. 60강. Section 42 정보보호 인증제도 (2)관리체계 수립 및 운영 p.699\\n\\n\\t\\t\\t\\t\\t\\t\\t\\t \\n\\t\\t\\t\\t\\t\\t\\t\\t64분\\n\\t\\t\\t\\t\\t\\t\\t\\t\\n\\t\\t\\t\\t\\t\\t\\t\\t\\n\\t\\t\\t\\t\\t\\t\\t\\t\\n\\t\\t\\t\\t\\t\\t\\t\\t\\n\\t\\t\\t\\t\\t\\t\\t\\t\\n\\n\\t\\t\\t\\t\\t\\t\\t\\t\\t(00분)\\n\\t\\t\\t\\t\\t\\t\\t\\t\\n\\n\\n\\t\\t\\t\\t\\t\\t\\t\\t\\t(00분)\\n\\t\\t\\t\\t\\t\\t\\t\\t\\n\\n',\n",
       " '61. 61강. Section 42 정보보호 인증제도_4.기타 정보보호 활동 p.717\\n\\n\\t\\t\\t\\t\\t\\t\\t\\t \\n\\t\\t\\t\\t\\t\\t\\t\\t67분\\n\\t\\t\\t\\t\\t\\t\\t\\t\\n\\t\\t\\t\\t\\t\\t\\t\\t\\n\\t\\t\\t\\t\\t\\t\\t\\t\\n\\t\\t\\t\\t\\t\\t\\t\\t\\n\\t\\t\\t\\t\\t\\t\\t\\t\\n\\n\\t\\t\\t\\t\\t\\t\\t\\t\\t(00분)\\n\\t\\t\\t\\t\\t\\t\\t\\t\\n\\n\\n\\t\\t\\t\\t\\t\\t\\t\\t\\t(00분)\\n\\t\\t\\t\\t\\t\\t\\t\\t\\n\\n',\n",
       " '62. 62강. Section 43 정보보호 관련 법규 (나) 개인정보 보호 원칙(제3조) p.722\\n\\n\\t\\t\\t\\t\\t\\t\\t\\t \\n\\t\\t\\t\\t\\t\\t\\t\\t63분\\n\\t\\t\\t\\t\\t\\t\\t\\t\\n\\t\\t\\t\\t\\t\\t\\t\\t\\n\\t\\t\\t\\t\\t\\t\\t\\t\\n\\t\\t\\t\\t\\t\\t\\t\\t\\n\\t\\t\\t\\t\\t\\t\\t\\t\\n\\n\\t\\t\\t\\t\\t\\t\\t\\t\\t(00분)\\n\\t\\t\\t\\t\\t\\t\\t\\t\\n\\n\\n\\t\\t\\t\\t\\t\\t\\t\\t\\t(00분)\\n\\t\\t\\t\\t\\t\\t\\t\\t\\n\\n',\n",
       " '63. 63강. Section 43 정보보호 관련 법규_(다) 제3자 제공이 가능한 경우 p.728\\n\\n\\t\\t\\t\\t\\t\\t\\t\\t \\n\\t\\t\\t\\t\\t\\t\\t\\t51분\\n\\t\\t\\t\\t\\t\\t\\t\\t\\n\\t\\t\\t\\t\\t\\t\\t\\t\\n\\t\\t\\t\\t\\t\\t\\t\\t\\n\\t\\t\\t\\t\\t\\t\\t\\t\\n\\t\\t\\t\\t\\t\\t\\t\\t\\n\\n\\t\\t\\t\\t\\t\\t\\t\\t\\t(00분)\\n\\t\\t\\t\\t\\t\\t\\t\\t\\n\\n\\n\\t\\t\\t\\t\\t\\t\\t\\t\\t(00분)\\n\\t\\t\\t\\t\\t\\t\\t\\t\\n\\n',\n",
       " '64. 64강. Section 43 정보보호 관련 법규 제25조(영상정보처리기기의 설치, 운영 제한) p.734\\n\\n\\t\\t\\t\\t\\t\\t\\t\\t \\n\\t\\t\\t\\t\\t\\t\\t\\t62분\\n\\t\\t\\t\\t\\t\\t\\t\\t\\n\\t\\t\\t\\t\\t\\t\\t\\t\\n\\t\\t\\t\\t\\t\\t\\t\\t\\n\\t\\t\\t\\t\\t\\t\\t\\t\\n\\t\\t\\t\\t\\t\\t\\t\\t\\n\\n\\t\\t\\t\\t\\t\\t\\t\\t\\t(00분)\\n\\t\\t\\t\\t\\t\\t\\t\\t\\n\\n\\n\\t\\t\\t\\t\\t\\t\\t\\t\\t(00분)\\n\\t\\t\\t\\t\\t\\t\\t\\t\\n\\n',\n",
       " '65. 65강. Section 43 정보보호 관련 법규 (라) 개인정보파일의 등록 및 공개 p.740\\n\\n\\t\\t\\t\\t\\t\\t\\t\\t \\n\\t\\t\\t\\t\\t\\t\\t\\t63분\\n\\t\\t\\t\\t\\t\\t\\t\\t\\n\\t\\t\\t\\t\\t\\t\\t\\t\\n\\t\\t\\t\\t\\t\\t\\t\\t\\n\\t\\t\\t\\t\\t\\t\\t\\t\\n\\t\\t\\t\\t\\t\\t\\t\\t\\n\\n\\t\\t\\t\\t\\t\\t\\t\\t\\t(00분)\\n\\t\\t\\t\\t\\t\\t\\t\\t\\n\\n\\n\\t\\t\\t\\t\\t\\t\\t\\t\\t(00분)\\n\\t\\t\\t\\t\\t\\t\\t\\t\\n\\n',\n",
       " '66. 66강. Section 43 정보보호 관련 법규_(3) 개인정보의 안전성 확보 조치 기준(2020.8.11) p.751\\n\\n\\t\\t\\t\\t\\t\\t\\t\\t \\n\\t\\t\\t\\t\\t\\t\\t\\t57분\\n\\t\\t\\t\\t\\t\\t\\t\\t\\n\\t\\t\\t\\t\\t\\t\\t\\t\\n\\t\\t\\t\\t\\t\\t\\t\\t\\n\\t\\t\\t\\t\\t\\t\\t\\t\\n\\t\\t\\t\\t\\t\\t\\t\\t\\n\\n\\t\\t\\t\\t\\t\\t\\t\\t\\t(00분)\\n\\t\\t\\t\\t\\t\\t\\t\\t\\n\\n\\n\\t\\t\\t\\t\\t\\t\\t\\t\\t(00분)\\n\\t\\t\\t\\t\\t\\t\\t\\t\\n\\n',\n",
       " '67. 67강. Section 43 정보보호 관련 법규 (나) 정보통신서비스 제공자 및 이용자의 책무(제3조) p.765\\n\\n\\t\\t\\t\\t\\t\\t\\t\\t \\n\\t\\t\\t\\t\\t\\t\\t\\t44분\\n\\t\\t\\t\\t\\t\\t\\t\\t\\n\\t\\t\\t\\t\\t\\t\\t\\t\\n\\t\\t\\t\\t\\t\\t\\t\\t\\n\\t\\t\\t\\t\\t\\t\\t\\t\\n\\t\\t\\t\\t\\t\\t\\t\\t\\n\\n\\t\\t\\t\\t\\t\\t\\t\\t\\t(00분)\\n\\t\\t\\t\\t\\t\\t\\t\\t\\n\\n\\n\\t\\t\\t\\t\\t\\t\\t\\t\\t(00분)\\n\\t\\t\\t\\t\\t\\t\\t\\t\\n\\n',\n",
       " '68. 68강. Section 43 정보보호 관련 법규 3. 정보통신기반 보호법(2020.12.10) p.775\\n\\n\\t\\t\\t\\t\\t\\t\\t\\t \\n\\t\\t\\t\\t\\t\\t\\t\\t33분\\n\\t\\t\\t\\t\\t\\t\\t\\t\\n\\t\\t\\t\\t\\t\\t\\t\\t\\n\\t\\t\\t\\t\\t\\t\\t\\t\\n\\t\\t\\t\\t\\t\\t\\t\\t\\n\\t\\t\\t\\t\\t\\t\\t\\t\\n\\n\\t\\t\\t\\t\\t\\t\\t\\t\\t(00분)\\n\\t\\t\\t\\t\\t\\t\\t\\t\\n\\n\\n\\t\\t\\t\\t\\t\\t\\t\\t\\t(00분)\\n\\t\\t\\t\\t\\t\\t\\t\\t\\n\\n',\n",
       " '69. 관리 및 법규 주관식(종강)\\n\\n\\t\\t\\t\\t\\t\\t\\t\\t \\n\\t\\t\\t\\t\\t\\t\\t\\t23분\\n\\t\\t\\t\\t\\t\\t\\t\\t\\n\\t\\t\\t\\t\\t\\t\\t\\t\\n\\t\\t\\t\\t\\t\\t\\t\\t\\n\\t\\t\\t\\t\\t\\t\\t\\t\\n\\t\\t\\t\\t\\t\\t\\t\\t\\n\\n\\t\\t\\t\\t\\t\\t\\t\\t\\t(00분)\\n\\t\\t\\t\\t\\t\\t\\t\\t\\n\\n\\n\\t\\t\\t\\t\\t\\t\\t\\t\\t(00분)\\n\\t\\t\\t\\t\\t\\t\\t\\t\\n\\n']"
      ]
     },
     "execution_count": 8,
     "metadata": {},
     "output_type": "execute_result"
    }
   ],
   "source": [
    "result3"
   ]
  },
  {
   "cell_type": "code",
   "execution_count": 13,
   "metadata": {},
   "outputs": [
    {
     "ename": "AttributeError",
     "evalue": "'list' object has no attribute 'strip'",
     "output_type": "error",
     "traceback": [
      "\u001b[1;31m---------------------------------------------------------------------------\u001b[0m",
      "\u001b[1;31mAttributeError\u001b[0m                            Traceback (most recent call last)",
      "\u001b[1;32m<ipython-input-13-03d4bab59a39>\u001b[0m in \u001b[0;36m<module>\u001b[1;34m\u001b[0m\n\u001b[1;32m----> 1\u001b[1;33m \u001b[0mdd\u001b[0m \u001b[1;33m=\u001b[0m \u001b[0mresult3\u001b[0m\u001b[1;33m.\u001b[0m\u001b[0mstrip\u001b[0m\u001b[1;33m(\u001b[0m\u001b[1;34mr'\\t'\u001b[0m\u001b[1;33m)\u001b[0m\u001b[1;33m\u001b[0m\u001b[1;33m\u001b[0m\u001b[0m\n\u001b[0m",
      "\u001b[1;31mAttributeError\u001b[0m: 'list' object has no attribute 'strip'"
     ]
    }
   ],
   "source": [
    "dd = result3.strip(r'\\t')"
   ]
  },
  {
   "cell_type": "code",
   "execution_count": 22,
   "metadata": {},
   "outputs": [
    {
     "name": "stdout",
     "output_type": "stream",
     "text": [
      "1. 1강. OT 54분(00분)(00분)\n",
      "2. 2강. Section 01 정보보호 관리의 개념_CIA Triad(삼각형) p.4 64분(00분)(00분)\n",
      "3. 03강. PART 02 암호학 p.16 61분(00분)(00분)\n",
      "4. 04강. Section 02 암호학 개요_3. 주요 암호기술에 대한 개괄 p.23 64분(00분)(00분)\n",
      "5. 05강. Section 03 대칭키 암호_1. 현대 대칭키 암호 p.33 61분(00분)(00분)\n",
      "6. 06강. Section 03 대칭키 암호_3.DES p.40 62분(00분)(00분)\n",
      "7. 07강. Section 03 대칭키 암호_2)Electronic CodeBook 모드 p.51 63분(00분)(00분)\n",
      "8. 08강. Section 04 비대칭키 암호_4)Diffie-Hellman 키 교환에 의한 해결 p.62 61분(00분)(00분)\n",
      "9. 09강. Section 04 비대칭키 암호_(4)Rabin 암호시스템 p.71 68분(00분)(00분)\n",
      "10. 10강. Section 05 해시함수와 응용_3. SHA p.83 62분(00분)(00분)\n",
      "11. 11강. Section 05 해시함수와 응용_(2) MAC의 구현 사례 p.92 61분(00분)(00분)\n",
      "12. 12강. Section 06 전자서명과 PKI_2. PKI(공개키 기반 구조) p.107 57분(00분)(00분)\n",
      "13. 13강. Section 08 접근통제 개요 p.124 60분(00분)(00분)\n",
      "14. 14강. Section 09 사용자 인증_2.사용자 인증 기법 p.124 61분(00분)(00분)\n",
      "15. 15강. Section 09 사용자 인증_(3).개체(생물학적) 특성 기반 인증 p.138 62분(00분)(00분)\n",
      "16. 16강. Section 10 접근통제 보안 모델 p.146 65분(00분)(00분)\n",
      "17. 17강. Section 10 접근통제 보안 모델_(1) 벨라파듈라 모델 p.153 64분(00분)(00분)\n",
      "18. 18강.Section 12 보안 운영체제 p.166 57분(00분)(00분)\n",
      "19. 19강. Section 13. 클라이언트보안 (3)웜(Worm) p.177 61분(00분)(00분)\n",
      "20. 20강. Section 14. 윈도우 서버보안 3)윈도우 파일시스템 p.188 72분(00분)(00분)\n",
      "21. 21강 [유닉스/리눅스특강 01] 유닉스 개요 p.1~ 61분(00분)(00분)\n",
      "22. 22강 [유닉스/리눅스특강 02] 파일의 권한관리 p.17~ 61분(00분)(00분)\n",
      "23. 23강 [유닉스/리눅스특강 03] 유닉스 서버 보안 p.36~ 70분(00분)(00분)\n",
      "24. 24강. Section 16. 서버 보안 관리 p.244 67분(00분)(00분)\n",
      "25. 25강. Section 17. 각종 시스템 보안위협 및 대응책 p.264 77분(00분)(00분)\n",
      "26. 26강. Section 17. 각종 시스템 보안위협 및 대응책 4. 백도어 p.275 89분(00분)(00분)\n",
      "27. 27강. Section 18. 최신 보안 주제들 p.282 63분(00분)(00분)\n",
      "28. 28강 Section 19. 네트워크 개요(데이터통신) p.304 61분(00분)(00분)\n",
      "29. 29강 Section 19. 네트워크 개요(교환) p.311 61분(00분)(00분)\n",
      "30. 30강 Section 20. TCP/IP(서브네팅과 슈퍼네팅) p.319~ 64분(00분)(00분)\n",
      "31. 31강 Section 19. TCP/IP(네트워크 계층 프로토콜) p.321 67분(00분)(00분)\n",
      "32. 32강 TCP/IP(전송계층) p.331 58분(00분)(00분)\n",
      "33. 33강. Section 21. 라우팅 p.342 62분(00분)(00분)\n",
      "34. 34강. Section 21. 라우팅 (라) 엑세스 리스트를 인터페이스에 적용 p.355 60분(00분)(00분)\n",
      "35. 35강. Section 22. 네트워크 장비의 이해 (5) 라우터 p.363 59분(00분)(00분)\n",
      "36. 36강. Section 23. 무선통신 보안 (라) 무선암호화 방식 p.376 62분(00분)(00분)\n",
      "37. 37강. Section 23. 무선통신 보안 4. 디바이스 인증기술(기기 인증) p.391 62분(00분)(00분)\n",
      "38. 38강. Section 25. 네트워크 기반 프로그램 활용 p.411 58분(00분)(00분)\n",
      "39. 39강. Section 26. 네트워크 기반 공격의 이해 p.422 69분(00분)(00분)\n",
      "40. 40강. Section 26. 네트워크 기반 공격의 이해 p.431 45분(00분)(00분)\n",
      "41. 41강. Section 26. 네트워크 기반 공격의 이해 (나) DRDoS 공격의 위협요소 p.439 57분(00분)(00분)\n",
      "42. 42강. Section 26. 네트워크 기반 공격의 이해 ④ ICMP 리다이렉트(Redirect) p.449 61분(00분)(00분)\n",
      "43. 43강. Section 27. IDS/IPS 1. 침입탐지시스템(IDS) p.465 59분(00분)(00분)\n",
      "44. 44강. Section 27. IDS/IPS 2. 침입방지시스템(IPS) p.477 63분(00분)(00분)\n",
      "45. 45강. Section 28. 침입차단시스템 (3)스테이트풀 패킷 검사 침입차단시스템 p.488 64분(00분)(00분)\n",
      "46. 46강. Section 29. VPN_3) 특징 p.501 61분(00분)(00분)\n",
      "47. 47강. Section 29. VPN_(5) 보안연계 p.513 61분(00분)(00분)\n",
      "48. 48강. Section 31. FTP 보안_(4) NFS와 심바 p.531 63분(00분)(00분)\n",
      "49. 49강. Section 32. 이메일 보안_5) PGP 인증서 p.544 42분(00분)(00분)\n",
      "50. 50강. Section 33. 웹 보안_3.SSL/TLS p.562 76분(00분)(00분)\n",
      "51. 51강. Section 33. 웹 보안_(다) SQL Injection 공격 종류 p.580 59분(00분)(00분)\n",
      "52. 52강. Section 34. DHCP와 DNS p.596 61분(00분)(00분)\n",
      "53. 53강. Section 35. 데이터베이스 보안 p.611 65분(00분)(00분)\n",
      "54. 54강. Section 37. 침해사고대응(디지털 포렌식) p.633 59분(00분)(00분)\n",
      "55. 55강. Part 07 정보보호 관리 및 법규 p.652 60분(00분)(00분)\n",
      "56. 56강. Section 39 정보보호 거버넌스와 관리 체계 수립 (2)정보보호 정책을 구현하기 위한 요소 p.658 64분(00분)(00분)\n",
      "57. 57강. Section 40 정보보호 위험 관리 p.667 60분(00분)(00분)\n",
      "58. 58강. Section 41 BCP/DRP p.678 63분(00분)(00분)\n",
      "59. 59강. Section 42 정보보호 인증제도 p.689 64분(00분)(00분)\n",
      "60. 60강. Section 42 정보보호 인증제도 (2)관리체계 수립 및 운영 p.699 64분(00분)(00분)\n",
      "61. 61강. Section 42 정보보호 인증제도_4.기타 정보보호 활동 p.717 67분(00분)(00분)\n",
      "62. 62강. Section 43 정보보호 관련 법규 (나) 개인정보 보호 원칙(제3조) p.722 63분(00분)(00분)\n",
      "63. 63강. Section 43 정보보호 관련 법규_(다) 제3자 제공이 가능한 경우 p.728 51분(00분)(00분)\n",
      "64. 64강. Section 43 정보보호 관련 법규 제25조(영상정보처리기기의 설치, 운영 제한) p.734 62분(00분)(00분)\n",
      "65. 65강. Section 43 정보보호 관련 법규 (라) 개인정보파일의 등록 및 공개 p.740 63분(00분)(00분)\n",
      "66. 66강. Section 43 정보보호 관련 법규_(3) 개인정보의 안전성 확보 조치 기준(2020.8.11) p.751 57분(00분)(00분)\n",
      "67. 67강. Section 43 정보보호 관련 법규 (나) 정보통신서비스 제공자 및 이용자의 책무(제3조) p.765 44분(00분)(00분)\n",
      "68. 68강. Section 43 정보보호 관련 법규 3. 정보통신기반 보호법(2020.12.10) p.775 33분(00분)(00분)\n",
      "69. 관리 및 법규 주관식(종강) 23분(00분)(00분)\n"
     ]
    }
   ],
   "source": [
    "final = []\n",
    "for a in result3:\n",
    "    print(a.replace('\\t','').replace('\\n',''))\n",
    "    \n",
    "final = a.replace('\\t','').replace('\\n','')"
   ]
  },
  {
   "cell_type": "code",
   "execution_count": 23,
   "metadata": {},
   "outputs": [
    {
     "data": {
      "text/plain": [
       "'C:\\\\Users\\\\Administrator'"
      ]
     },
     "execution_count": 23,
     "metadata": {},
     "output_type": "execute_result"
    }
   ],
   "source": [
    "pwd"
   ]
  },
  {
   "cell_type": "code",
   "execution_count": null,
   "metadata": {},
   "outputs": [],
   "source": []
  }
 ],
 "metadata": {
  "kernelspec": {
   "display_name": "Python 3",
   "language": "python",
   "name": "python3"
  },
  "language_info": {
   "codemirror_mode": {
    "name": "ipython",
    "version": 3
   },
   "file_extension": ".py",
   "mimetype": "text/x-python",
   "name": "python",
   "nbconvert_exporter": "python",
   "pygments_lexer": "ipython3",
   "version": "3.8.5"
  }
 },
 "nbformat": 4,
 "nbformat_minor": 4
}
