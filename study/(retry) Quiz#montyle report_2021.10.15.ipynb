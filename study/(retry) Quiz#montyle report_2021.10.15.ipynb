{
 "cells": [
  {
   "cell_type": "markdown",
   "metadata": {},
   "source": [
    "## 코드 작성 (제출)\n",
    "\n",
    "- Algorithm Quiz 1\n",
    "-  아래는 2020년 매매데이터 이다, 월별 매수 총합계(buy_amount), 이익합계(profit_amout)를 구하시오"
   ]
  },
  {
   "cell_type": "code",
   "execution_count": 1,
   "metadata": {},
   "outputs": [],
   "source": [
    "import pandas as pd\n",
    "from pandas import DataFrame\n",
    "\n",
    "order_data = [\n",
    "{\"date\":\"2020/01/01\", \"buy_amount\":\"1,000.5\", \"profit_amount\":\"2,000\"}, \n",
    "{\"date\":\"2020/01/02\", \"buy_amount\":\"1,000\", \"profit_amount\":\"2,000\"}, \n",
    "{\"date\":\"2020/02/12\", \"buy_amount\":\"3000\", \"profit_amount\":\"-1,500\"}, \n",
    "{\"date\":\"2020/02/21\", \"buy_amount\":\"1,000.11\", \"profit_amount\":\"1,000.5\"}, \n",
    "{\"date\":\"2020/03/21\", \"buy_amount\":\"1,000\", \"profit_amount\":\"2,000\"}, \n",
    "{\"date\":\"2020/04/01\", \"buy_amount\":\"1,000\", \"profit_amount\":\"92,000\"}, \n",
    "{\"date\":\"2020/04/11\", \"buy_amount\":\"1,000.6\", \"profit_amount\":\"2,000.9\"}, \n",
    "{\"date\":\"2020/06/02\", \"buy_amount\":\"11,000\", \"profit_amount\":\"122,000\"}, \n",
    "{\"date\":\"2020/07/21\", \"buy_amount\":\"1,000\", \"profit_amount\":\"-2,000\"}, \n",
    "{\"date\":\"2020/07/22\", \"buy_amount\":\"1,000\", \"profit_amount\":\"2,000\"}, \n",
    "{\"date\":\"2020/08/21\", \"buy_amount\":\"1,000\", \"profit_amount\":\"-122,000\"}, \n",
    "{\"date\":\"2020/08/26\", \"buy_amount\":\"2,000\", \"profit_amount\":\"3,000\"},\n",
    "{\"date\":\"2020/09/21\", \"buy_amount\":\"1,000\", \"profit_amount\":\"-122,000\"}, \n",
    "{\"date\":\"2020/10/26\", \"buy_amount\":\"2,000\", \"profit_amount\":\"3,000.12\"},\n",
    "{\"date\":\"2020/11/29\", \"buy_amount\":\"1,000.2\", \"profit_amount\":\"-122,000\"}, \n",
    "{\"date\":\"2020/12/26\", \"buy_amount\":\"2,000\", \"profit_amount\":\"3,000\"}\n",
    "]"
   ]
  },
  {
   "cell_type": "code",
   "execution_count": 2,
   "metadata": {},
   "outputs": [],
   "source": [
    "K = []\n",
    "for i in order_data:\n",
    "    K.append(\n",
    "            {'date' : i['date'][:7],\n",
    "             'buy_amount' : i['buy_amount'],\n",
    "             'profit_amount' :i['profit_amount']\n",
    "             \n",
    "             })        "
   ]
  },
  {
   "cell_type": "code",
   "execution_count": 3,
   "metadata": {},
   "outputs": [],
   "source": [
    "df = DataFrame(data = K)\n",
    "df = df.replace(',', '', regex=True)\n",
    "df['buy_amount'] = pd.to_numeric(df['buy_amount'])\n",
    "df['profit_amount'] = pd.to_numeric(df['profit_amount'])"
   ]
  },
  {
   "cell_type": "code",
   "execution_count": 4,
   "metadata": {},
   "outputs": [
    {
     "data": {
      "text/html": [
       "<div>\n",
       "<style scoped>\n",
       "    .dataframe tbody tr th:only-of-type {\n",
       "        vertical-align: middle;\n",
       "    }\n",
       "\n",
       "    .dataframe tbody tr th {\n",
       "        vertical-align: top;\n",
       "    }\n",
       "\n",
       "    .dataframe thead th {\n",
       "        text-align: right;\n",
       "    }\n",
       "</style>\n",
       "<table border=\"1\" class=\"dataframe\">\n",
       "  <thead>\n",
       "    <tr style=\"text-align: right;\">\n",
       "      <th></th>\n",
       "      <th>date</th>\n",
       "      <th>buy_amount</th>\n",
       "      <th>profit_amount</th>\n",
       "    </tr>\n",
       "  </thead>\n",
       "  <tbody>\n",
       "    <tr>\n",
       "      <th>0</th>\n",
       "      <td>2020/01</td>\n",
       "      <td>2000.50</td>\n",
       "      <td>4000.00</td>\n",
       "    </tr>\n",
       "    <tr>\n",
       "      <th>1</th>\n",
       "      <td>2020/02</td>\n",
       "      <td>4000.11</td>\n",
       "      <td>-499.50</td>\n",
       "    </tr>\n",
       "    <tr>\n",
       "      <th>2</th>\n",
       "      <td>2020/03</td>\n",
       "      <td>1000.00</td>\n",
       "      <td>2000.00</td>\n",
       "    </tr>\n",
       "    <tr>\n",
       "      <th>3</th>\n",
       "      <td>2020/04</td>\n",
       "      <td>2000.60</td>\n",
       "      <td>94000.90</td>\n",
       "    </tr>\n",
       "    <tr>\n",
       "      <th>4</th>\n",
       "      <td>2020/06</td>\n",
       "      <td>11000.00</td>\n",
       "      <td>122000.00</td>\n",
       "    </tr>\n",
       "    <tr>\n",
       "      <th>5</th>\n",
       "      <td>2020/07</td>\n",
       "      <td>2000.00</td>\n",
       "      <td>0.00</td>\n",
       "    </tr>\n",
       "    <tr>\n",
       "      <th>6</th>\n",
       "      <td>2020/08</td>\n",
       "      <td>3000.00</td>\n",
       "      <td>-119000.00</td>\n",
       "    </tr>\n",
       "    <tr>\n",
       "      <th>7</th>\n",
       "      <td>2020/09</td>\n",
       "      <td>1000.00</td>\n",
       "      <td>-122000.00</td>\n",
       "    </tr>\n",
       "    <tr>\n",
       "      <th>8</th>\n",
       "      <td>2020/10</td>\n",
       "      <td>2000.00</td>\n",
       "      <td>3000.12</td>\n",
       "    </tr>\n",
       "    <tr>\n",
       "      <th>9</th>\n",
       "      <td>2020/11</td>\n",
       "      <td>1000.20</td>\n",
       "      <td>-122000.00</td>\n",
       "    </tr>\n",
       "    <tr>\n",
       "      <th>10</th>\n",
       "      <td>2020/12</td>\n",
       "      <td>2000.00</td>\n",
       "      <td>3000.00</td>\n",
       "    </tr>\n",
       "  </tbody>\n",
       "</table>\n",
       "</div>"
      ],
      "text/plain": [
       "       date  buy_amount  profit_amount\n",
       "0   2020/01     2000.50        4000.00\n",
       "1   2020/02     4000.11        -499.50\n",
       "2   2020/03     1000.00        2000.00\n",
       "3   2020/04     2000.60       94000.90\n",
       "4   2020/06    11000.00      122000.00\n",
       "5   2020/07     2000.00           0.00\n",
       "6   2020/08     3000.00     -119000.00\n",
       "7   2020/09     1000.00     -122000.00\n",
       "8   2020/10     2000.00        3000.12\n",
       "9   2020/11     1000.20     -122000.00\n",
       "10  2020/12     2000.00        3000.00"
      ]
     },
     "execution_count": 4,
     "metadata": {},
     "output_type": "execute_result"
    }
   ],
   "source": [
    "Grouped = df.groupby(\"date\").sum()\n",
    "grouped2 = Grouped.reset_index() #https://sjquant.tistory.com/55\n",
    "grouped2"
   ]
  },
  {
   "cell_type": "code",
   "execution_count": 5,
   "metadata": {},
   "outputs": [],
   "source": [
    "DID = grouped2.to_numpy()"
   ]
  },
  {
   "cell_type": "code",
   "execution_count": 6,
   "metadata": {},
   "outputs": [],
   "source": [
    "monthly_order_date = {}"
   ]
  },
  {
   "cell_type": "code",
   "execution_count": 7,
   "metadata": {},
   "outputs": [],
   "source": [
    "r,c = DID.shape # 행, 열"
   ]
  },
  {
   "cell_type": "code",
   "execution_count": 8,
   "metadata": {},
   "outputs": [],
   "source": [
    "for i in DID:\n",
    "    monthly_order_date[i[0]]= { \"buy_amount\":i[1], \"profit_amount\":i[2]     }"
   ]
  },
  {
   "cell_type": "code",
   "execution_count": 9,
   "metadata": {},
   "outputs": [
    {
     "data": {
      "text/plain": [
       "{'2020/01': {'buy_amount': 2000.5, 'profit_amount': 4000.0},\n",
       " '2020/02': {'buy_amount': 4000.11, 'profit_amount': -499.5},\n",
       " '2020/03': {'buy_amount': 1000.0, 'profit_amount': 2000.0},\n",
       " '2020/04': {'buy_amount': 2000.6, 'profit_amount': 94000.9},\n",
       " '2020/06': {'buy_amount': 11000.0, 'profit_amount': 122000.0},\n",
       " '2020/07': {'buy_amount': 2000.0, 'profit_amount': 0.0},\n",
       " '2020/08': {'buy_amount': 3000.0, 'profit_amount': -119000.0},\n",
       " '2020/09': {'buy_amount': 1000.0, 'profit_amount': -122000.0},\n",
       " '2020/10': {'buy_amount': 2000.0, 'profit_amount': 3000.12},\n",
       " '2020/11': {'buy_amount': 1000.2, 'profit_amount': -122000.0},\n",
       " '2020/12': {'buy_amount': 2000.0, 'profit_amount': 3000.0}}"
      ]
     },
     "execution_count": 9,
     "metadata": {},
     "output_type": "execute_result"
    }
   ],
   "source": [
    "monthly_order_date"
   ]
  },
  {
   "cell_type": "code",
   "execution_count": 10,
   "metadata": {},
   "outputs": [
    {
     "data": {
      "text/plain": [
       "{'buy_amount': 2000.5, 'profit_amount': 4000.0}"
      ]
     },
     "execution_count": 10,
     "metadata": {},
     "output_type": "execute_result"
    }
   ],
   "source": [
    "#TestCase1\n",
    "monthly_order_date[\"2020/01\"]"
   ]
  },
  {
   "cell_type": "code",
   "execution_count": 11,
   "metadata": {},
   "outputs": [
    {
     "data": {
      "text/plain": [
       "-499.5"
      ]
     },
     "execution_count": 11,
     "metadata": {},
     "output_type": "execute_result"
    }
   ],
   "source": [
    "#TestCase2\n",
    "monthly_order_date[\"2020/02\"]['profit_amount']"
   ]
  },
  {
   "cell_type": "markdown",
   "metadata": {},
   "source": [
    "===================================================================================="
   ]
  },
  {
   "cell_type": "markdown",
   "metadata": {},
   "source": [
    "##  코드작성 과정 (피드백 받은 이후임)"
   ]
  },
  {
   "cell_type": "code",
   "execution_count": 285,
   "metadata": {},
   "outputs": [],
   "source": [
    "data1 = [\n",
    "{\"date\":\"2020/01/01\", \"buy_amount\":\"1,##  완성본 만들기 위한 빌드업000.5\", \"profit_amount\":\"2,000\"}, \n",
    "{\"date\":\"2020/01/02\", \"buy_amount\":\"1,000\", \"profit_amount\":\"2,000\"}, \n",
    "{\"date\":\"2020/02/12\", \"buy_amount\":\"3000\", \"profit_amount\":\"-1,500\"}, \n",
    "{\"date\":\"2020/02/21\", \"buy_amount\":\"1,000.11\", \"profit_amount\":\"1,000.5\"}, \n",
    "{\"date\":\"2020/03/21\", \"buy_amount\":\"1,000\", \"profit_amount\":\"2,000\"}, \n",
    "{\"date\":\"2020/04/01\", \"buy_amount\":\"1,000\", \"profit_amount\":\"92,000\"}, \n",
    "{\"date\":\"2020/04/11\", \"buy_amount\":\"1,000.6\", \"profit_amount\":\"2,000.9\"}, \n",
    "{\"date\":\"2020/06/02\", \"buy_amount\":\"11,000\", \"profit_amount\":\"122,000\"}, \n",
    "{\"date\":\"2020/07/21\", \"buy_amount\":\"1,000\", \"profit_amount\":\"-2,000\"}, \n",
    "{\"date\":\"2020/07/22\", \"buy_amount\":\"1,000\", \"profit_amount\":\"2,000\"}, \n",
    "{\"date\":\"2020/08/21\", \"buy_amount\":\"1,000\", \"profit_amount\":\"-122,000\"}, \n",
    "{\"date\":\"2020/08/26\", \"buy_amount\":\"2,000\", \"profit_amount\":\"3,000\"},\n",
    "{\"date\":\"2020/09/21\", \"buy_amount\":\"1,000\", \"profit_amount\":\"-122,000\"}, \n",
    "{\"date\":\"2020/10/26\", \"buy_amount\":\"2,000\", \"profit_amount\":\"3,000.12\"},\n",
    "{\"date\":\"2020/11/29\", \"buy_amount\":\"1,000.2\", \"profit_amount\":\"-122,000\"}, \n",
    "{\"date\":\"2020/12/26\", \"buy_amount\":\"2,000\", \"profit_amount\":\"3,000\"}\n",
    "]"
   ]
  },
  {
   "cell_type": "code",
   "execution_count": 286,
   "metadata": {},
   "outputs": [],
   "source": [
    "K = []\n",
    "for i in data1:\n",
    "    K.append(\n",
    "            {'date' : i['date'][:7],\n",
    "             'buy_amount' : i['buy_amount'],\n",
    "             'profit_amount' :i['profit_amount']\n",
    "             \n",
    "             })      "
   ]
  },
  {
   "cell_type": "code",
   "execution_count": 287,
   "metadata": {},
   "outputs": [
    {
     "data": {
      "text/plain": [
       "[{'date': '2020/01', 'buy_amount': '1,000.5', 'profit_amount': '2,000'},\n",
       " {'date': '2020/01', 'buy_amount': '1,000', 'profit_amount': '2,000'},\n",
       " {'date': '2020/02', 'buy_amount': '3000', 'profit_amount': '-1,500'},\n",
       " {'date': '2020/02', 'buy_amount': '1,000.11', 'profit_amount': '1,000.5'},\n",
       " {'date': '2020/03', 'buy_amount': '1,000', 'profit_amount': '2,000'},\n",
       " {'date': '2020/04', 'buy_amount': '1,000', 'profit_amount': '92,000'},\n",
       " {'date': '2020/04', 'buy_amount': '1,000.6', 'profit_amount': '2,000.9'},\n",
       " {'date': '2020/06', 'buy_amount': '11,000', 'profit_amount': '122,000'},\n",
       " {'date': '2020/07', 'buy_amount': '1,000', 'profit_amount': '-2,000'},\n",
       " {'date': '2020/07', 'buy_amount': '1,000', 'profit_amount': '2,000'},\n",
       " {'date': '2020/08', 'buy_amount': '1,000', 'profit_amount': '-122,000'},\n",
       " {'date': '2020/08', 'buy_amount': '2,000', 'profit_amount': '3,000'},\n",
       " {'date': '2020/09', 'buy_amount': '1,000', 'profit_amount': '-122,000'},\n",
       " {'date': '2020/10', 'buy_amount': '2,000', 'profit_amount': '3,000.12'},\n",
       " {'date': '2020/11', 'buy_amount': '1,000.2', 'profit_amount': '-122,000'},\n",
       " {'date': '2020/12', 'buy_amount': '2,000', 'profit_amount': '3,000'}]"
      ]
     },
     "execution_count": 287,
     "metadata": {},
     "output_type": "execute_result"
    }
   ],
   "source": [
    "K"
   ]
  },
  {
   "cell_type": "code",
   "execution_count": 288,
   "metadata": {},
   "outputs": [
    {
     "data": {
      "text/html": [
       "<div>\n",
       "<style scoped>\n",
       "    .dataframe tbody tr th:only-of-type {\n",
       "        vertical-align: middle;\n",
       "    }\n",
       "\n",
       "    .dataframe tbody tr th {\n",
       "        vertical-align: top;\n",
       "    }\n",
       "\n",
       "    .dataframe thead th {\n",
       "        text-align: right;\n",
       "    }\n",
       "</style>\n",
       "<table border=\"1\" class=\"dataframe\">\n",
       "  <thead>\n",
       "    <tr style=\"text-align: right;\">\n",
       "      <th></th>\n",
       "      <th>date</th>\n",
       "      <th>buy_amount</th>\n",
       "      <th>profit_amount</th>\n",
       "    </tr>\n",
       "  </thead>\n",
       "  <tbody>\n",
       "    <tr>\n",
       "      <th>0</th>\n",
       "      <td>2020/01</td>\n",
       "      <td>1,000.5</td>\n",
       "      <td>2,000</td>\n",
       "    </tr>\n",
       "    <tr>\n",
       "      <th>1</th>\n",
       "      <td>2020/01</td>\n",
       "      <td>1,000</td>\n",
       "      <td>2,000</td>\n",
       "    </tr>\n",
       "    <tr>\n",
       "      <th>2</th>\n",
       "      <td>2020/02</td>\n",
       "      <td>3000</td>\n",
       "      <td>-1,500</td>\n",
       "    </tr>\n",
       "    <tr>\n",
       "      <th>3</th>\n",
       "      <td>2020/02</td>\n",
       "      <td>1,000.11</td>\n",
       "      <td>1,000.5</td>\n",
       "    </tr>\n",
       "    <tr>\n",
       "      <th>4</th>\n",
       "      <td>2020/03</td>\n",
       "      <td>1,000</td>\n",
       "      <td>2,000</td>\n",
       "    </tr>\n",
       "    <tr>\n",
       "      <th>5</th>\n",
       "      <td>2020/04</td>\n",
       "      <td>1,000</td>\n",
       "      <td>92,000</td>\n",
       "    </tr>\n",
       "    <tr>\n",
       "      <th>6</th>\n",
       "      <td>2020/04</td>\n",
       "      <td>1,000.6</td>\n",
       "      <td>2,000.9</td>\n",
       "    </tr>\n",
       "    <tr>\n",
       "      <th>7</th>\n",
       "      <td>2020/06</td>\n",
       "      <td>11,000</td>\n",
       "      <td>122,000</td>\n",
       "    </tr>\n",
       "    <tr>\n",
       "      <th>8</th>\n",
       "      <td>2020/07</td>\n",
       "      <td>1,000</td>\n",
       "      <td>-2,000</td>\n",
       "    </tr>\n",
       "    <tr>\n",
       "      <th>9</th>\n",
       "      <td>2020/07</td>\n",
       "      <td>1,000</td>\n",
       "      <td>2,000</td>\n",
       "    </tr>\n",
       "    <tr>\n",
       "      <th>10</th>\n",
       "      <td>2020/08</td>\n",
       "      <td>1,000</td>\n",
       "      <td>-122,000</td>\n",
       "    </tr>\n",
       "    <tr>\n",
       "      <th>11</th>\n",
       "      <td>2020/08</td>\n",
       "      <td>2,000</td>\n",
       "      <td>3,000</td>\n",
       "    </tr>\n",
       "    <tr>\n",
       "      <th>12</th>\n",
       "      <td>2020/09</td>\n",
       "      <td>1,000</td>\n",
       "      <td>-122,000</td>\n",
       "    </tr>\n",
       "    <tr>\n",
       "      <th>13</th>\n",
       "      <td>2020/10</td>\n",
       "      <td>2,000</td>\n",
       "      <td>3,000.12</td>\n",
       "    </tr>\n",
       "    <tr>\n",
       "      <th>14</th>\n",
       "      <td>2020/11</td>\n",
       "      <td>1,000.2</td>\n",
       "      <td>-122,000</td>\n",
       "    </tr>\n",
       "    <tr>\n",
       "      <th>15</th>\n",
       "      <td>2020/12</td>\n",
       "      <td>2,000</td>\n",
       "      <td>3,000</td>\n",
       "    </tr>\n",
       "  </tbody>\n",
       "</table>\n",
       "</div>"
      ],
      "text/plain": [
       "       date buy_amount profit_amount\n",
       "0   2020/01    1,000.5         2,000\n",
       "1   2020/01      1,000         2,000\n",
       "2   2020/02       3000        -1,500\n",
       "3   2020/02   1,000.11       1,000.5\n",
       "4   2020/03      1,000         2,000\n",
       "5   2020/04      1,000        92,000\n",
       "6   2020/04    1,000.6       2,000.9\n",
       "7   2020/06     11,000       122,000\n",
       "8   2020/07      1,000        -2,000\n",
       "9   2020/07      1,000         2,000\n",
       "10  2020/08      1,000      -122,000\n",
       "11  2020/08      2,000         3,000\n",
       "12  2020/09      1,000      -122,000\n",
       "13  2020/10      2,000      3,000.12\n",
       "14  2020/11    1,000.2      -122,000\n",
       "15  2020/12      2,000         3,000"
      ]
     },
     "execution_count": 288,
     "metadata": {},
     "output_type": "execute_result"
    }
   ],
   "source": [
    "from pandas import DataFrame\n",
    "df = DataFrame(data = K)\n",
    "df"
   ]
  },
  {
   "cell_type": "code",
   "execution_count": 290,
   "metadata": {},
   "outputs": [
    {
     "name": "stdout",
     "output_type": "stream",
     "text": [
      "<class 'pandas.core.frame.DataFrame'>\n",
      "RangeIndex: 16 entries, 0 to 15\n",
      "Data columns (total 3 columns):\n",
      " #   Column         Non-Null Count  Dtype  \n",
      "---  ------         --------------  -----  \n",
      " 0   date           16 non-null     object \n",
      " 1   buy_amount     16 non-null     float64\n",
      " 2   profit_amount  16 non-null     float64\n",
      "dtypes: float64(2), object(1)\n",
      "memory usage: 512.0+ bytes\n"
     ]
    }
   ],
   "source": [
    "import pandas as pd\n",
    "\n",
    "df = df.replace(',', '', regex=True)\n",
    "df['buy_amount'] = pd.to_numeric(df['buy_amount'])\n",
    "df['profit_amount'] = pd.to_numeric(df['profit_amount'])\n",
    "df.info()"
   ]
  },
  {
   "cell_type": "code",
   "execution_count": 291,
   "metadata": {},
   "outputs": [
    {
     "data": {
      "text/html": [
       "<div>\n",
       "<style scoped>\n",
       "    .dataframe tbody tr th:only-of-type {\n",
       "        vertical-align: middle;\n",
       "    }\n",
       "\n",
       "    .dataframe tbody tr th {\n",
       "        vertical-align: top;\n",
       "    }\n",
       "\n",
       "    .dataframe thead th {\n",
       "        text-align: right;\n",
       "    }\n",
       "</style>\n",
       "<table border=\"1\" class=\"dataframe\">\n",
       "  <thead>\n",
       "    <tr style=\"text-align: right;\">\n",
       "      <th></th>\n",
       "      <th>buy_amount</th>\n",
       "      <th>profit_amount</th>\n",
       "    </tr>\n",
       "    <tr>\n",
       "      <th>date</th>\n",
       "      <th></th>\n",
       "      <th></th>\n",
       "    </tr>\n",
       "  </thead>\n",
       "  <tbody>\n",
       "    <tr>\n",
       "      <th>2020/01</th>\n",
       "      <td>2000.50</td>\n",
       "      <td>4000.00</td>\n",
       "    </tr>\n",
       "    <tr>\n",
       "      <th>2020/02</th>\n",
       "      <td>4000.11</td>\n",
       "      <td>-499.50</td>\n",
       "    </tr>\n",
       "    <tr>\n",
       "      <th>2020/03</th>\n",
       "      <td>1000.00</td>\n",
       "      <td>2000.00</td>\n",
       "    </tr>\n",
       "    <tr>\n",
       "      <th>2020/04</th>\n",
       "      <td>2000.60</td>\n",
       "      <td>94000.90</td>\n",
       "    </tr>\n",
       "    <tr>\n",
       "      <th>2020/06</th>\n",
       "      <td>11000.00</td>\n",
       "      <td>122000.00</td>\n",
       "    </tr>\n",
       "    <tr>\n",
       "      <th>2020/07</th>\n",
       "      <td>2000.00</td>\n",
       "      <td>0.00</td>\n",
       "    </tr>\n",
       "    <tr>\n",
       "      <th>2020/08</th>\n",
       "      <td>3000.00</td>\n",
       "      <td>-119000.00</td>\n",
       "    </tr>\n",
       "    <tr>\n",
       "      <th>2020/09</th>\n",
       "      <td>1000.00</td>\n",
       "      <td>-122000.00</td>\n",
       "    </tr>\n",
       "    <tr>\n",
       "      <th>2020/10</th>\n",
       "      <td>2000.00</td>\n",
       "      <td>3000.12</td>\n",
       "    </tr>\n",
       "    <tr>\n",
       "      <th>2020/11</th>\n",
       "      <td>1000.20</td>\n",
       "      <td>-122000.00</td>\n",
       "    </tr>\n",
       "    <tr>\n",
       "      <th>2020/12</th>\n",
       "      <td>2000.00</td>\n",
       "      <td>3000.00</td>\n",
       "    </tr>\n",
       "  </tbody>\n",
       "</table>\n",
       "</div>"
      ],
      "text/plain": [
       "         buy_amount  profit_amount\n",
       "date                              \n",
       "2020/01     2000.50        4000.00\n",
       "2020/02     4000.11        -499.50\n",
       "2020/03     1000.00        2000.00\n",
       "2020/04     2000.60       94000.90\n",
       "2020/06    11000.00      122000.00\n",
       "2020/07     2000.00           0.00\n",
       "2020/08     3000.00     -119000.00\n",
       "2020/09     1000.00     -122000.00\n",
       "2020/10     2000.00        3000.12\n",
       "2020/11     1000.20     -122000.00\n",
       "2020/12     2000.00        3000.00"
      ]
     },
     "execution_count": 291,
     "metadata": {},
     "output_type": "execute_result"
    }
   ],
   "source": [
    "Grouped = df.groupby(\"date\").sum()\n",
    "Grouped"
   ]
  },
  {
   "cell_type": "code",
   "execution_count": 293,
   "metadata": {},
   "outputs": [],
   "source": [
    "grouped2 = Grouped.reset_index() #https://sjquant.tistory.com/55"
   ]
  },
  {
   "cell_type": "code",
   "execution_count": 294,
   "metadata": {},
   "outputs": [
    {
     "data": {
      "text/html": [
       "<div>\n",
       "<style scoped>\n",
       "    .dataframe tbody tr th:only-of-type {\n",
       "        vertical-align: middle;\n",
       "    }\n",
       "\n",
       "    .dataframe tbody tr th {\n",
       "        vertical-align: top;\n",
       "    }\n",
       "\n",
       "    .dataframe thead th {\n",
       "        text-align: right;\n",
       "    }\n",
       "</style>\n",
       "<table border=\"1\" class=\"dataframe\">\n",
       "  <thead>\n",
       "    <tr style=\"text-align: right;\">\n",
       "      <th></th>\n",
       "      <th>date</th>\n",
       "      <th>buy_amount</th>\n",
       "      <th>profit_amount</th>\n",
       "    </tr>\n",
       "  </thead>\n",
       "  <tbody>\n",
       "    <tr>\n",
       "      <th>0</th>\n",
       "      <td>2020/01</td>\n",
       "      <td>2000.50</td>\n",
       "      <td>4000.00</td>\n",
       "    </tr>\n",
       "    <tr>\n",
       "      <th>1</th>\n",
       "      <td>2020/02</td>\n",
       "      <td>4000.11</td>\n",
       "      <td>-499.50</td>\n",
       "    </tr>\n",
       "    <tr>\n",
       "      <th>2</th>\n",
       "      <td>2020/03</td>\n",
       "      <td>1000.00</td>\n",
       "      <td>2000.00</td>\n",
       "    </tr>\n",
       "    <tr>\n",
       "      <th>3</th>\n",
       "      <td>2020/04</td>\n",
       "      <td>2000.60</td>\n",
       "      <td>94000.90</td>\n",
       "    </tr>\n",
       "    <tr>\n",
       "      <th>4</th>\n",
       "      <td>2020/06</td>\n",
       "      <td>11000.00</td>\n",
       "      <td>122000.00</td>\n",
       "    </tr>\n",
       "    <tr>\n",
       "      <th>5</th>\n",
       "      <td>2020/07</td>\n",
       "      <td>2000.00</td>\n",
       "      <td>0.00</td>\n",
       "    </tr>\n",
       "    <tr>\n",
       "      <th>6</th>\n",
       "      <td>2020/08</td>\n",
       "      <td>3000.00</td>\n",
       "      <td>-119000.00</td>\n",
       "    </tr>\n",
       "    <tr>\n",
       "      <th>7</th>\n",
       "      <td>2020/09</td>\n",
       "      <td>1000.00</td>\n",
       "      <td>-122000.00</td>\n",
       "    </tr>\n",
       "    <tr>\n",
       "      <th>8</th>\n",
       "      <td>2020/10</td>\n",
       "      <td>2000.00</td>\n",
       "      <td>3000.12</td>\n",
       "    </tr>\n",
       "    <tr>\n",
       "      <th>9</th>\n",
       "      <td>2020/11</td>\n",
       "      <td>1000.20</td>\n",
       "      <td>-122000.00</td>\n",
       "    </tr>\n",
       "    <tr>\n",
       "      <th>10</th>\n",
       "      <td>2020/12</td>\n",
       "      <td>2000.00</td>\n",
       "      <td>3000.00</td>\n",
       "    </tr>\n",
       "  </tbody>\n",
       "</table>\n",
       "</div>"
      ],
      "text/plain": [
       "       date  buy_amount  profit_amount\n",
       "0   2020/01     2000.50        4000.00\n",
       "1   2020/02     4000.11        -499.50\n",
       "2   2020/03     1000.00        2000.00\n",
       "3   2020/04     2000.60       94000.90\n",
       "4   2020/06    11000.00      122000.00\n",
       "5   2020/07     2000.00           0.00\n",
       "6   2020/08     3000.00     -119000.00\n",
       "7   2020/09     1000.00     -122000.00\n",
       "8   2020/10     2000.00        3000.12\n",
       "9   2020/11     1000.20     -122000.00\n",
       "10  2020/12     2000.00        3000.00"
      ]
     },
     "execution_count": 294,
     "metadata": {},
     "output_type": "execute_result"
    }
   ],
   "source": [
    "grouped2"
   ]
  },
  {
   "cell_type": "code",
   "execution_count": 297,
   "metadata": {},
   "outputs": [
    {
     "data": {
      "text/plain": [
       "array([['2020/01', 2000.5, 4000.0],\n",
       "       ['2020/02', 4000.11, -499.5],\n",
       "       ['2020/03', 1000.0, 2000.0],\n",
       "       ['2020/04', 2000.6, 94000.9],\n",
       "       ['2020/06', 11000.0, 122000.0],\n",
       "       ['2020/07', 2000.0, 0.0],\n",
       "       ['2020/08', 3000.0, -119000.0],\n",
       "       ['2020/09', 1000.0, -122000.0],\n",
       "       ['2020/10', 2000.0, 3000.12],\n",
       "       ['2020/11', 1000.2, -122000.0],\n",
       "       ['2020/12', 2000.0, 3000.0]], dtype=object)"
      ]
     },
     "execution_count": 297,
     "metadata": {},
     "output_type": "execute_result"
    }
   ],
   "source": [
    "DID = grouped2.to_numpy()\n",
    "DID"
   ]
  },
  {
   "cell_type": "code",
   "execution_count": 299,
   "metadata": {},
   "outputs": [],
   "source": [
    "monthly_order_date = {}\n",
    "r,c = DID.shape # 행, 열"
   ]
  },
  {
   "cell_type": "code",
   "execution_count": 300,
   "metadata": {},
   "outputs": [
    {
     "data": {
      "text/plain": [
       "11"
      ]
     },
     "execution_count": 300,
     "metadata": {},
     "output_type": "execute_result"
    }
   ],
   "source": [
    "r"
   ]
  },
  {
   "cell_type": "code",
   "execution_count": 301,
   "metadata": {},
   "outputs": [
    {
     "data": {
      "text/plain": [
       "3"
      ]
     },
     "execution_count": 301,
     "metadata": {},
     "output_type": "execute_result"
    }
   ],
   "source": [
    "c"
   ]
  },
  {
   "cell_type": "code",
   "execution_count": 302,
   "metadata": {},
   "outputs": [
    {
     "name": "stdout",
     "output_type": "stream",
     "text": [
      "2020/01\n",
      "2020/02\n",
      "2020/03\n",
      "2020/04\n",
      "2020/06\n",
      "2020/07\n",
      "2020/08\n",
      "2020/09\n",
      "2020/10\n",
      "2020/11\n",
      "2020/12\n"
     ]
    }
   ],
   "source": [
    "for i in DID:\n",
    "    print(i[0])"
   ]
  },
  {
   "cell_type": "code",
   "execution_count": 303,
   "metadata": {},
   "outputs": [
    {
     "name": "stdout",
     "output_type": "stream",
     "text": [
      "2000.5\n",
      "4000.11\n",
      "1000.0\n",
      "2000.6\n",
      "11000.0\n",
      "2000.0\n",
      "3000.0\n",
      "1000.0\n",
      "2000.0\n",
      "1000.2\n",
      "2000.0\n"
     ]
    }
   ],
   "source": [
    "for i in DID:\n",
    "    print(i[1])"
   ]
  },
  {
   "cell_type": "code",
   "execution_count": 304,
   "metadata": {},
   "outputs": [
    {
     "name": "stdout",
     "output_type": "stream",
     "text": [
      "4000.0\n",
      "-499.5\n",
      "2000.0\n",
      "94000.9\n",
      "122000.0\n",
      "0.0\n",
      "-119000.0\n",
      "-122000.0\n",
      "3000.12\n",
      "-122000.0\n",
      "3000.0\n"
     ]
    }
   ],
   "source": [
    "for i in DID:\n",
    "    print(i[2])"
   ]
  },
  {
   "cell_type": "code",
   "execution_count": 305,
   "metadata": {},
   "outputs": [],
   "source": [
    "for i in DID:\n",
    "    monthly_order_date[i[0]]= { \"buy_amount\":i[1], \"profit_amount\":i[2]     }"
   ]
  },
  {
   "cell_type": "code",
   "execution_count": 306,
   "metadata": {},
   "outputs": [
    {
     "data": {
      "text/plain": [
       "{'2020/01': {'buy_amount': 2000.5, 'profit_amount': 4000.0},\n",
       " '2020/02': {'buy_amount': 4000.11, 'profit_amount': -499.5},\n",
       " '2020/03': {'buy_amount': 1000.0, 'profit_amount': 2000.0},\n",
       " '2020/04': {'buy_amount': 2000.6, 'profit_amount': 94000.9},\n",
       " '2020/06': {'buy_amount': 11000.0, 'profit_amount': 122000.0},\n",
       " '2020/07': {'buy_amount': 2000.0, 'profit_amount': 0.0},\n",
       " '2020/08': {'buy_amount': 3000.0, 'profit_amount': -119000.0},\n",
       " '2020/09': {'buy_amount': 1000.0, 'profit_amount': -122000.0},\n",
       " '2020/10': {'buy_amount': 2000.0, 'profit_amount': 3000.12},\n",
       " '2020/11': {'buy_amount': 1000.2, 'profit_amount': -122000.0},\n",
       " '2020/12': {'buy_amount': 2000.0, 'profit_amount': 3000.0}}"
      ]
     },
     "execution_count": 306,
     "metadata": {},
     "output_type": "execute_result"
    }
   ],
   "source": [
    "monthly_order_date"
   ]
  },
  {
   "cell_type": "code",
   "execution_count": 307,
   "metadata": {},
   "outputs": [
    {
     "data": {
      "text/plain": [
       "{'buy_amount': 2000.5, 'profit_amount': 4000.0}"
      ]
     },
     "execution_count": 307,
     "metadata": {},
     "output_type": "execute_result"
    }
   ],
   "source": [
    "monthly_order_date[\"2020/01\"]"
   ]
  },
  {
   "cell_type": "code",
   "execution_count": 308,
   "metadata": {},
   "outputs": [
    {
     "data": {
      "text/plain": [
       "-499.5"
      ]
     },
     "execution_count": 308,
     "metadata": {},
     "output_type": "execute_result"
    }
   ],
   "source": [
    "monthly_order_date[\"2020/02\"]['profit_amount']"
   ]
  },
  {
   "cell_type": "code",
   "execution_count": 13,
   "metadata": {},
   "outputs": [
    {
     "data": {
      "text/plain": [
       "'C:\\\\Users\\\\Administrator'"
      ]
     },
     "execution_count": 13,
     "metadata": {},
     "output_type": "execute_result"
    }
   ],
   "source": [
    "pwd"
   ]
  },
  {
   "cell_type": "code",
   "execution_count": null,
   "metadata": {},
   "outputs": [],
   "source": []
  }
 ],
 "metadata": {
  "kernelspec": {
   "display_name": "Python 3",
   "language": "python",
   "name": "python3"
  },
  "language_info": {
   "codemirror_mode": {
    "name": "ipython",
    "version": 3
   },
   "file_extension": ".py",
   "mimetype": "text/x-python",
   "name": "python",
   "nbconvert_exporter": "python",
   "pygments_lexer": "ipython3",
   "version": "3.8.5"
  }
 },
 "nbformat": 4,
 "nbformat_minor": 4
}
